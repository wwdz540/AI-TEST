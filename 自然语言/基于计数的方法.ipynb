{
 "cells": [
  {
   "cell_type": "code",
   "execution_count": 1,
   "metadata": {},
   "outputs": [],
   "source": [
    "import sys\n",
    "import numpy as np\n",
    "\n",
    "\n",
    "def preprocess(text):\n",
    "    text = text.lower()\n",
    "    text = text.replace('.',' .')\n",
    "    words = text.split(' ')\n",
    "\n",
    "    word_to_id = {}\n",
    "    id_to_word = []\n",
    "\n",
    "    idx = 0;\n",
    "\n",
    "    for word in words :\n",
    "        if word in word_to_id : continue\n",
    "        word_to_id[word] = idx\n",
    "        id_to_word.append(word)\n",
    "        idx += 1\n",
    "    corpus = np.array([word_to_id[w] for w in words])\n",
    "    return corpus, word_to_id, id_to_word \n",
    "\n"
   ]
  },
  {
   "cell_type": "code",
   "execution_count": 2,
   "metadata": {},
   "outputs": [
    {
     "data": {
      "text/plain": [
       "'you say goodbye and i say hello .'"
      ]
     },
     "execution_count": 2,
     "metadata": {},
     "output_type": "execute_result"
    }
   ],
   "source": [
    "text = \"You say goodbye and I say hello.\"\n",
    "corpus,word_to_id,id_to_word  = preprocess(text)\n",
    "\n",
    "\n",
    "\" \".join([id_to_word[i] for i in corpus])"
   ]
  },
  {
   "cell_type": "markdown",
   "metadata": {},
   "source": [
    "## 共现矩阵"
   ]
  },
  {
   "cell_type": "code",
   "execution_count": 3,
   "metadata": {},
   "outputs": [],
   "source": [
    "def create_co_matrix(corpus,vocab_size,window_size=1):\n",
    "    corpus_size = len(corpus)\n",
    "    co_matrix = np.zeros((vocab_size,vocab_size),dtype=np.int32)\n",
    "   # print(corpus[0:-1])\n",
    "\n",
    "    for idx, word_id in enumerate(corpus[0 : -window_size]):\n",
    "        for i in range(idx + 1,idx + window_size+1 ):\n",
    "            join_id=corpus[i]\n",
    "            co_matrix[word_id,join_id] += 1\n",
    "            co_matrix[join_id,word_id] += 1\n",
    "\n",
    "    return co_matrix\n",
    "\n",
    "\n",
    "\n",
    "C = create_co_matrix(corpus,len(id_to_word))\n",
    "\n",
    "\n"
   ]
  },
  {
   "cell_type": "code",
   "execution_count": 4,
   "metadata": {},
   "outputs": [
    {
     "name": "stdout",
     "output_type": "stream",
     "text": [
      "0.7071067691154799\n",
      "(7, 7)\n",
      "0.7071067691154799\n"
     ]
    }
   ],
   "source": [
    "## 两个相量的余弦相似度\n",
    "def cos_similarity(x,y,eps = 1e-8):\n",
    "    nx = x / (np.sqrt(np.sum(x ** 2)) + eps)\n",
    "    ny = y / (np.sqrt(np.sum(y ** 2)) + eps)\n",
    "    return nx @ ny\n",
    "\n",
    "\n",
    "\n",
    "## 计算整个矩阵的余弦相似度\n",
    "def cos_similarity_matrix(A,eps=1e-8):\n",
    "  #  print(A.shape)\n",
    "\n",
    "    na = A/(np.sqrt(np.sum(A ** 2,axis=1,keepdims=True)) + 1e-8 )\n",
    "#    print(na.shape)\n",
    "    \n",
    "    result = na @ na.T\n",
    "    print(result.shape)\n",
    "    return result\n",
    "\n",
    "\n",
    "\n",
    "#print(word_to_id)\n",
    "\n",
    "C0 = C[word_to_id[\"i\"]]\n",
    "C1 = C[word_to_id[\"you\"]]\n",
    "print(cos_similarity(C0,C1))\n",
    "\n",
    "\n",
    "cos_C = cos_similarity_matrix(C) \n",
    "print(cos_C[word_to_id[\"i\"],word_to_id[\"you\"]])\n",
    "#print(cos_C[C0])\n",
    "\n",
    "# print(cos_C[C0][C1])\n",
    "##print(cos_C)\n",
    "\n",
    "#print(f\"v1,v2 {cos_similarity(C[word_to_id[\"i\"]],C[word_to_id[\"you\"]])}\")\n"
   ]
  },
  {
   "cell_type": "code",
   "execution_count": 113,
   "metadata": {},
   "outputs": [
    {
     "name": "stdout",
     "output_type": "stream",
     "text": [
      "[0.99999998 0.         0.70710677 0.         0.70710677 0.70710677\n",
      " 0.        ]\n"
     ]
    },
    {
     "data": {
      "text/plain": [
       "array(['you', 'goodbye', 'i', 'hello', 'say', 'and', '.'], dtype='<U7')"
      ]
     },
     "execution_count": 113,
     "metadata": {},
     "output_type": "execute_result"
    }
   ],
   "source": [
    "## 单词相似度排序\n",
    "\n",
    "you_idx = word_to_id[\"you\"]\n",
    "you_vet = cos_C[you_idx]\n",
    "print(you_vet)\n",
    "\n",
    "similar_idx = (-1 *  you_vet).argsort()\n",
    "\n",
    "np.array(id_to_word)[similar_idx]\n"
   ]
  },
  {
   "cell_type": "code",
   "execution_count": 5,
   "metadata": {},
   "outputs": [
    {
     "name": "stdout",
     "output_type": "stream",
     "text": [
      "[[0.         1.80735492 0.         0.         0.         0.\n",
      "  0.        ]\n",
      " [1.80735492 0.         0.80735492 0.         0.80735492 0.80735492\n",
      "  0.        ]\n",
      " [0.         0.80735492 0.         1.80735492 0.         0.\n",
      "  0.        ]\n",
      " [0.         0.         1.80735492 0.         1.80735492 0.\n",
      "  0.        ]\n",
      " [0.         0.80735492 0.         1.80735492 0.         0.\n",
      "  0.        ]\n",
      " [0.         0.80735492 0.         0.         0.         0.\n",
      "  2.80735491]\n",
      " [0.         0.         0.         0.         0.         2.80735491\n",
      "  0.        ]]\n"
     ]
    },
    {
     "name": "stderr",
     "output_type": "stream",
     "text": [
      "<ipython-input-5-0370780256a7>:8: RuntimeWarning: divide by zero encountered in log2\n",
      "  M =np.log2( C * N   / ((S * S.T)+ eps))\n"
     ]
    }
   ],
   "source": [
    "##print(C)\n",
    "### 点互信息 (Pointwise Matual Information)\n",
    "\n",
    "\n",
    "def ppmi(C,verbose=False,eps=1e-8):\n",
    "    S = np.sum(C,axis=0).reshape(-1,1)\n",
    "    N = np.sum(C)\n",
    "    M =np.log2( C * N   / ((S * S.T)+ eps)) \n",
    "    M[M == -np.inf] = 0\n",
    "    return M\n",
    "\n",
    "W = ppmi(C)\n",
    "print(W)\n"
   ]
  },
  {
   "cell_type": "code",
   "execution_count": 6,
   "metadata": {},
   "outputs": [
    {
     "name": "stdout",
     "output_type": "stream",
     "text": [
      "(7, 7)\n",
      "[0.         1.80735492 0.         0.         0.         0.\n",
      " 0.        ]\n",
      "[-2.22044605e-16  3.40948750e-01]\n"
     ]
    }
   ],
   "source": [
    "## 降维  （dimensionality reduction）\n",
    "U , S , V = np.linalg.svd(W)\n",
    "# print(U)\n",
    "\n",
    "\n",
    "\n",
    "print(C.shape)\n",
    "\n",
    "print(W[0])\n",
    "print(U[0,:2])\n",
    "\n"
   ]
  },
  {
   "cell_type": "code",
   "execution_count": 167,
   "metadata": {},
   "outputs": [
    {
     "data": {
      "image/png": "[encoded data removed]",
      "text/plain": [
       "<Figure size 432x288 with 1 Axes>"
      ]
     },
     "metadata": {
      "needs_background": "light"
     },
     "output_type": "display_data"
    }
   ],
   "source": [
    "import matplotlib.pyplot as plt\n",
    "for word,word_id in word_to_id.items():\n",
    "    plt.annotate(word,(U[word_id,0],U[word_id,1]))\n",
    "\n",
    "plt.scatter(U[:,0],U[:,1],alpha=0.5)\n",
    "plt.show()\n",
    "\n"
   ]
  },
  {
   "cell_type": "markdown",
   "metadata": {},
   "source": [
    "## ptb数据集测试\n",
    "\n",
    "有别于书上的代码，此处我用改进的代码进行测试"
   ]
  },
  {
   "cell_type": "code",
   "execution_count": 7,
   "metadata": {},
   "outputs": [],
   "source": [
    "import sys\n",
    "sys.path.append(\"/Users/wzp/book/nature_language\")\n",
    "from dataset import ptb\n",
    "\n",
    "corpus , word_to_id , id_to_word = ptb.load_data(\"train\")\n",
    "\n",
    "\n",
    "vocab_size = len(word_to_id)\n",
    "window_size = 2\n",
    "wordvec_size = 100\n"
   ]
  },
  {
   "cell_type": "code",
   "execution_count": 8,
   "metadata": {},
   "outputs": [],
   "source": [
    "\n",
    "C = create_co_matrix(corpus,vocab_size,window_size=2)\n",
    "\n"
   ]
  },
  {
   "cell_type": "code",
   "execution_count": 173,
   "metadata": {},
   "outputs": [
    {
     "name": "stdout",
     "output_type": "stream",
     "text": [
      "[[0 1 0 ... 0 0 0]\n",
      " [1 0 1 ... 0 0 0]\n",
      " [0 1 0 ... 0 0 0]\n",
      " ...\n",
      " [0 0 0 ... 0 0 0]\n",
      " [0 0 0 ... 0 0 0]\n",
      " [0 0 0 ... 0 0 0]]\n"
     ]
    }
   ],
   "source": [
    "print(C)"
   ]
  },
  {
   "cell_type": "code",
   "execution_count": 9,
   "metadata": {},
   "outputs": [
    {
     "name": "stderr",
     "output_type": "stream",
     "text": [
      "<ipython-input-5-0370780256a7>:8: RuntimeWarning: divide by zero encountered in log2\n",
      "  M =np.log2( C * N   / ((S * S.T)+ eps))\n",
      "<ipython-input-5-0370780256a7>:8: RuntimeWarning: invalid value encountered in log2\n",
      "  M =np.log2( C * N   / ((S * S.T)+ eps))\n"
     ]
    }
   ],
   "source": [
    "W = ppmi(C)"
   ]
  },
  {
   "cell_type": "code",
   "execution_count": 10,
   "metadata": {},
   "outputs": [
    {
     "name": "stdout",
     "output_type": "stream",
     "text": [
      "[18.82623037 18.24126787  0.         ...  0.          0.\n",
      "  0.        ]\n",
      "float64\n"
     ]
    }
   ],
   "source": [
    "print(W[2])\n",
    "\n",
    "print(W.dtype)\n"
   ]
  },
  {
   "cell_type": "code",
   "execution_count": 23,
   "metadata": {},
   "outputs": [],
   "source": [
    "W = W.astype(np.float32)\n",
    "W[np.isnan(W)] = 0\n",
    "W[np.isinf(W)] = 0\n"
   ]
  },
  {
   "cell_type": "code",
   "execution_count": 28,
   "metadata": {},
   "outputs": [],
   "source": [
    "# U, S, V = np.linalg.svd(W)\n",
    "from sklearn.utils.extmath import randomized_svd\n",
    "U , S , V = randomized_svd(W,n_components=vocab_size,n_iter=5,random_state=None)\n"
   ]
  },
  {
   "cell_type": "code",
   "execution_count": 29,
   "metadata": {},
   "outputs": [
    {
     "name": "stdout",
     "output_type": "stream",
     "text": [
      "(10000, 10000)\n"
     ]
    }
   ],
   "source": [
    "S = cos_similarity_matrix(U)"
   ]
  },
  {
   "cell_type": "code",
   "execution_count": 30,
   "metadata": {},
   "outputs": [
    {
     "name": "stdout",
     "output_type": "stream",
     "text": [
      "query you\n",
      "you: 1.000000238418579\n",
      "closer: 1.2679083738476038e-07\n",
      "development: 1.2171221897006035e-07\n",
      "aimed: 1.139196683652699e-07\n",
      "made: 1.1049814929720014e-07\n",
      "====\n",
      "query year\n",
      "year: 0.9999998807907104\n",
      "separate: 1.1792917575803585e-07\n",
      "emphasis: 1.1755764717236161e-07\n",
      "prepared: 1.1126758181490004e-07\n",
      "operation: 1.093219452741323e-07\n",
      "====\n",
      "query car\n",
      "car: 0.9999999403953552\n",
      "graduates: 1.1893280316144228e-07\n",
      "tank: 1.1597330740187317e-07\n",
      "using: 1.1251904652453959e-07\n",
      "expects: 1.0946678230538964e-07\n",
      "====\n",
      "query toyota\n",
      "toyota: 0.9999999403953552\n",
      "wanting: 1.385924406349659e-07\n",
      "hailed: 1.2863893061876297e-07\n",
      "blocked: 1.2456439435482025e-07\n",
      "older: 1.209482434205711e-07\n",
      "====\n"
     ]
    }
   ],
   "source": [
    "querys = ['you','year','car','toyota']\n",
    "\n",
    "for query in querys:\n",
    "    id = word_to_id[query]\n",
    "    v = S[id]\n",
    "    similar_idx = (-1 *  v).argsort()\n",
    "    print(f'query {query}')\n",
    "    for i in range(5):\n",
    "        print(f'{id_to_word[similar_idx[i]]}: {v[similar_idx[i]]}')\n",
    "    print(\"====\")"
   ]
  }
 ],
 "metadata": {
  "interpreter": {
   "hash": "743dd8f2b487c2534346d6063ec1536880227fc79756a17789cff5cace2505bd"
  },
  "kernelspec": {
   "display_name": "Python 3 (ipykernel)",
   "language": "python",
   "name": "python3"
  },
  "language_info": {
   "codemirror_mode": {
    "name": "ipython",
    "version": 3
   },
   "file_extension": ".py",
   "mimetype": "text/x-python",
   "name": "python",
   "nbconvert_exporter": "python",
   "pygments_lexer": "ipython3",
   "version": "3.8.10"
  }
 },
 "nbformat": 4,
 "nbformat_minor": 4
}
