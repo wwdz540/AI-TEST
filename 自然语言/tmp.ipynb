{
 "cells": [
  {
   "cell_type": "code",
   "execution_count": 3,
   "id": "8aa5b855",
   "metadata": {},
   "outputs": [],
   "source": [
    "\n",
    "import torch"
   ]
  },
  {
   "cell_type": "code",
   "execution_count": 4,
   "id": "3b68a1f5-4dce-477e-81ce-f8840accb754",
   "metadata": {},
   "outputs": [
    {
     "data": {
      "text/plain": [
       "\u001b[0;31mType:\u001b[0m        module\n",
       "\u001b[0;31mString form:\u001b[0m <module 'torch' from '/Users/wzp/opt/anaconda3/envs/ml/lib/python3.8/site-packages/torch/__init__.py'>\n",
       "\u001b[0;31mFile:\u001b[0m        ~/opt/anaconda3/envs/ml/lib/python3.8/site-packages/torch/__init__.py\n",
       "\u001b[0;31mDocstring:\u001b[0m  \n",
       "The torch package contains data structures for multi-dimensional\n",
       "tensors and defines mathematical operations over these tensors.\n",
       "Additionally, it provides many utilities for efficient serializing of\n",
       "Tensors and arbitrary types, and other useful utilities.\n",
       "\n",
       "It has a CUDA counterpart, that enables you to run your tensor computations\n",
       "on an NVIDIA GPU with compute capability >= 3.0.\n"
      ]
     },
     "metadata": {},
     "output_type": "display_data"
    }
   ],
   "source": [
    "torch?\n"
   ]
  },
  {
   "cell_type": "code",
   "execution_count": 7,
   "id": "56f7fcae",
   "metadata": {},
   "outputs": [],
   "source": [
    "t = torch.tensor([])"
   ]
  },
  {
   "cell_type": "code",
   "execution_count": 9,
   "id": "a5d8774a-3efd-4192-b7cd-1595b1b141dc",
   "metadata": {},
   "outputs": [
    {
     "data": {
      "text/plain": [
       "\u001b[0;31mDocstring:\u001b[0m\n",
       "view(*shape) -> Tensor\n",
       "\n",
       "Returns a new tensor with the same data as the :attr:`self` tensor but of a\n",
       "different :attr:`shape`.\n",
       "\n",
       "The returned tensor shares the same data and must have the same number\n",
       "of elements, but may have a different size. For a tensor to be viewed, the new\n",
       "view size must be compatible with its original size and stride, i.e., each new\n",
       "view dimension must either be a subspace of an original dimension, or only span\n",
       "across original dimensions :math:`d, d+1, \\dots, d+k` that satisfy the following\n",
       "contiguity-like condition that :math:`\\forall i = d, \\dots, d+k-1`,\n",
       "\n",
       ".. math::\n",
       "\n",
       "  \\text{stride}[i] = \\text{stride}[i+1] \\times \\text{size}[i+1]\n",
       "\n",
       "Otherwise, it will not be possible to view :attr:`self` tensor as :attr:`shape`\n",
       "without copying it (e.g., via :meth:`contiguous`). When it is unclear whether a\n",
       ":meth:`view` can be performed, it is advisable to use :meth:`reshape`, which\n",
       "returns a view if the shapes are compatible, and copies (equivalent to calling\n",
       ":meth:`contiguous`) otherwise.\n",
       "\n",
       "Args:\n",
       "    shape (torch.Size or int...): the desired size\n",
       "\n",
       "Example::\n",
       "\n",
       "    >>> x = torch.randn(4, 4)\n",
       "    >>> x.size()\n",
       "    torch.Size([4, 4])\n",
       "    >>> y = x.view(16)\n",
       "    >>> y.size()\n",
       "    torch.Size([16])\n",
       "    >>> z = x.view(-1, 8)  # the size -1 is inferred from other dimensions\n",
       "    >>> z.size()\n",
       "    torch.Size([2, 8])\n",
       "\n",
       "    >>> a = torch.randn(1, 2, 3, 4)\n",
       "    >>> a.size()\n",
       "    torch.Size([1, 2, 3, 4])\n",
       "    >>> b = a.transpose(1, 2)  # Swaps 2nd and 3rd dimension\n",
       "    >>> b.size()\n",
       "    torch.Size([1, 3, 2, 4])\n",
       "    >>> c = a.view(1, 3, 2, 4)  # Does not change tensor layout in memory\n",
       "    >>> c.size()\n",
       "    torch.Size([1, 3, 2, 4])\n",
       "    >>> torch.equal(b, c)\n",
       "    False\n",
       "\u001b[0;31mType:\u001b[0m      builtin_function_or_method\n"
      ]
     },
     "metadata": {},
     "output_type": "display_data"
    }
   ],
   "source": [
    "t.view?"
   ]
  }
 ],
 "metadata": {
  "kernelspec": {
   "display_name": "Python 3 (ipykernel)",
   "language": "python",
   "name": "python3"
  },
  "language_info": {
   "codemirror_mode": {
    "name": "ipython",
    "version": 3
   },
   "file_extension": ".py",
   "mimetype": "text/x-python",
   "name": "python",
   "nbconvert_exporter": "python",
   "pygments_lexer": "ipython3",
   "version": "3.8.12"
  }
 },
 "nbformat": 4,
 "nbformat_minor": 5
}
