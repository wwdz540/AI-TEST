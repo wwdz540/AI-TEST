{
 "cells": [
  {
   "cell_type": "code",
   "execution_count": 3,
   "id": "7e51c5bd-4489-4949-b948-5e273d8d60e6",
   "metadata": {},
   "outputs": [],
   "source": [
    "import numpy as np\n",
    "import sys\n",
    "sys.path.append(\"/Users/wzp/book/nature_language\")\n"
   ]
  },
  {
   "cell_type": "code",
   "execution_count": 14,
   "id": "47b1a3a1-fb4e-4dde-a2a7-bde3f1480b52",
   "metadata": {},
   "outputs": [],
   "source": [
    "c0 = np.array([[1, 0, 0, 0, 0, 0, 0],[1, 0, 0, 0, 0, 0, 0],[1, 0, 0, 0, 0, 0, 0]])\n",
    "c1 = np.array([[0, 0, 1, 0, 0, 0, 0],[1, 0, 0, 0, 0, 0, 0],[1, 0, 0, 0, 0, 0, 0]])"
   ]
  },
  {
   "cell_type": "code",
   "execution_count": 15,
   "id": "a2a9e863-c0ff-4344-8db7-ea658df41d5a",
   "metadata": {},
   "outputs": [],
   "source": [
    "# 权重的初始值\n",
    "W_in = np.random.randn(7, 3)\n",
    "W_out = np.random.randn(3, 7)"
   ]
  },
  {
   "cell_type": "code",
   "execution_count": 16,
   "id": "73494073-6700-4a92-a6f6-467516576936",
   "metadata": {},
   "outputs": [],
   "source": [
    "# 生成层\n",
    "in_layer0 = MatMul(W_in)\n",
    "in_layer1 = MatMul(W_in)\n",
    "out_layer = MatMul(W_out)"
   ]
  },
  {
   "cell_type": "code",
   "execution_count": 17,
   "id": "0bc7bbd6-64eb-4741-98df-5e683e7f03d2",
   "metadata": {},
   "outputs": [],
   "source": [
    "h0 = in_layer0.forward(c0)\n",
    "h1 = in_layer1.forward(c1)"
   ]
  },
  {
   "cell_type": "code",
   "execution_count": 18,
   "id": "f28c3790-3004-47fb-a7ea-52197c85fd88",
   "metadata": {},
   "outputs": [
    {
     "name": "stdout",
     "output_type": "stream",
     "text": [
      "[[ 0.07788752 -0.15767681  1.16739658]\n",
      " [ 0.07788752 -0.15767681  1.16739658]\n",
      " [ 0.07788752 -0.15767681  1.16739658]]\n",
      "[[ 1.16212667 -0.93215063 -0.01857847]\n",
      " [ 0.07788752 -0.15767681  1.16739658]\n",
      " [ 0.07788752 -0.15767681  1.16739658]]\n"
     ]
    }
   ],
   "source": [
    "print(h0)\n",
    "\n",
    "print(h1)"
   ]
  },
  {
   "cell_type": "code",
   "execution_count": 23,
   "id": "ae86fad6-a601-4641-be11-52a0f1bc7243",
   "metadata": {},
   "outputs": [
    {
     "name": "stdout",
     "output_type": "stream",
     "text": [
      "[[ 0.88084632 -0.22449704  0.5721331   1.04931332  0.93735029  1.95658911\n",
      "  -1.99048525]\n",
      " [ 0.91936715 -1.27991459 -0.07103989  1.11154996  0.11858709  1.94349441\n",
      "  -1.0647325 ]\n",
      " [ 0.91936715 -1.27991459 -0.07103989  1.11154996  0.11858709  1.94349441\n",
      "  -1.0647325 ]]\n",
      "[[0.70699757 0.44411027 0.63925523 0.74064302 0.71856412 0.87616334\n",
      "  0.12020554]\n",
      " [0.71491314 0.21756476 0.48224749 0.75241796 0.52961208 0.87473554\n",
      "  0.25640611]\n",
      " [0.71491314 0.21756476 0.48224749 0.75241796 0.52961208 0.87473554\n",
      "  0.25640611]]\n"
     ]
    }
   ],
   "source": [
    "h = 0.5*(h0 + h1)\n",
    "\n",
    "\n",
    "s = out_layer.forward(h)\n",
    "\n",
    "\n",
    "from common.layers import Sigmoid\n",
    "sigmoid = Sigmoid()\n",
    "\n",
    "print(s)\n",
    "\n",
    "\n",
    "print(sigmoid.forward(s))\n"
   ]
  },
  {
   "cell_type": "code",
   "execution_count": null,
   "id": "6c30881a-0d2f-43a7-8e03-fd608cce6d29",
   "metadata": {},
   "outputs": [],
   "source": []
  }
 ],
 "metadata": {
  "kernelspec": {
   "display_name": "Python 3 (ipykernel)",
   "language": "python",
   "name": "python3"
  },
  "language_info": {
   "codemirror_mode": {
    "name": "ipython",
    "version": 3
   },
   "file_extension": ".py",
   "mimetype": "text/x-python",
   "name": "python",
   "nbconvert_exporter": "python",
   "pygments_lexer": "ipython3",
   "version": "3.8.12"
  }
 },
 "nbformat": 4,
 "nbformat_minor": 5
}
