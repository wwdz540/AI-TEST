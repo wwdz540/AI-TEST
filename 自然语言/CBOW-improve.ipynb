{
 "cells": [
  {
   "cell_type": "code",
   "execution_count": 3,
   "metadata": {},
   "outputs": [],
   "source": [
    "import torch \n",
    "from torch import nn\n",
    "from torch import Tensor\n",
    "\n",
    "device = \"cuda\" if torch.cuda.is_available() else \"cpu\"\n",
    "\n",
    "\n"
   ]
  },
  {
   "cell_type": "code",
   "execution_count": 94,
   "metadata": {},
   "outputs": [
    {
     "name": "stdout",
     "output_type": "stream",
     "text": [
      "tensor([-0.1322,  0.1961,  0.0438,  0.4855, -0.1322,  0.1061, -0.0527,  0.5996],\n",
      "       grad_fn=<CatBackward0>)\n",
      "tensor(0.6992, grad_fn=<BinaryCrossEntropyWithLogitsBackward0>)\n"
     ]
    }
   ],
   "source": [
    "class My_CBOW(nn.Module):\n",
    "    def __init__(self, vob_size:int, embed_dim:int):\n",
    "        super(My_CBOW,self).__init__()\n",
    "        self.inEmbedding = nn.Embedding(vob_size,embed_dim)\n",
    "        self.outEmbedding = nn.Embedding(vob_size,embed_dim)\n",
    "\n",
    "    #    self.h = None\n",
    "        \n",
    "    \n",
    "    def makeH(self,input):\n",
    "        W = self.inEmbedding(input)\n",
    "        n = W.shape[-2]\n",
    "\n",
    "        h = torch.sum(W,dim=-2) / n\n",
    "        return h\n",
    "\n",
    "    def forwardWithH(self,h,out):\n",
    "        W = self.outEmbedding(out)\n",
    "        score = torch.sum(h * W,dim = -1)\n",
    "        return score\n",
    "\n",
    "\n",
    "\n",
    "## 模型测试\n",
    "\n",
    "cbow = My_CBOW(10,3)\n",
    "cbow.to(device=device)\n",
    "input = torch.Tensor([[1,2,5],[1,2,3],[6,2,3],[6,2,3]]).to(dtype=torch.int32,device = device)\n",
    "\n",
    "##正样本\n",
    "h = cbow.makeH(input)\n",
    "pout = Tensor([1,3,2,5]).to(device=device,dtype=int)\n",
    "plable = torch.ones(pout.shape)\n",
    "pscore = cbow.forwardWithH(h,pout)\n",
    "\n",
    "\n",
    "##负样本\n",
    "nout = Tensor([1,0,1,7]).to(device=device,dtype=int)\n",
    "nlable = torch.zeros_like(nout)\n",
    "nsocre = cbow.forwardWithH(h,nout)\n",
    "\n",
    "\n",
    "score = torch.cat((pscore,nsocre))\n",
    "lables = torch.cat((plable,nlable))\n",
    "\n",
    "print(score)\n",
    "\n",
    "\n",
    "\n",
    "loss_fn = torch.nn.BCEWithLogitsLoss()\n",
    "loss = loss_fn(score,lables)\n",
    "\n",
    "print(loss)\n",
    "\n",
    "loss.backward()\n",
    "\n",
    "# input = Tensor([[1,2,5],[1,2,3],[6,2,3]],dtype=torch.int)\n",
    "# print(input)\n",
    "\n",
    "# cbow.makeH(input)\n",
    "\n"
   ]
  },
  {
   "cell_type": "code",
   "execution_count": 80,
   "metadata": {},
   "outputs": [
    {
     "name": "stdout",
     "output_type": "stream",
     "text": [
      "[[   0    1    3    4]\n",
      " [   1    2    4    5]\n",
      " [   2    3    5    6]\n",
      " ...\n",
      " [ 917 3196   64   39]\n",
      " [3196  258   39   26]\n",
      " [ 258   64   26   24]]\n",
      "[  2   3   4 ... 258  64  39]\n"
     ]
    }
   ],
   "source": [
    "import sys\n",
    "import numpy\n",
    "from common import config\n",
    "import pickle\n",
    "\n",
    "\n",
    "from common.util import create_contexts_target\n",
    "from dataset import ptb\n",
    "\n",
    "\n",
    "window_size = 2 #5\n",
    "hidden_size =  5 #100\n",
    "\n",
    "batch_size = 100\n",
    "max_epoch = 10\n",
    "\n",
    "\n",
    "corpus, word_to_id, id_to_word = ptb.load_data(\"train\")\n",
    "vocab_size = len(word_to_id)\n",
    "\n",
    "context , target = create_contexts_target(corpus=corpus,window_size=window_size)\n",
    "\n",
    "print(context)\n",
    "print(target)\n",
    "\n",
    "\n"
   ]
  },
  {
   "cell_type": "code",
   "execution_count": 84,
   "metadata": {},
   "outputs": [],
   "source": [
    "def train(model:My_CBOW, loss_fn , optimizer:torch.optim.Optimizer ,context : Tensor, target: Tensor, negativeTarget: Tensor):\n",
    "    # model.train()\n",
    "    h = model.makeH(context)\n",
    "\n",
    "    p_lable = torch.ones_like(target)\n",
    "    \n",
    "\n",
    "    p_score = model.forwardWithH(h,target)\n",
    "\n",
    "    n_lable = torch.zeros_like(negativeTarget)\n",
    "    n_score = model.forwardWithH(h,negativeTarget)\n",
    "\n",
    "    score = torch.cat((p_score,n_score)).to(dtype=torch.float32)\n",
    "    lables = torch.cat((p_lable,n_lable)).to(dtype=torch.float32)\n",
    "    loss = loss_fn(score,lables)\n",
    "    loss.backward()\n",
    "    optimizer.zero_grad()\n",
    "    optimizer.step()\n",
    "    return loss\n",
    "\n",
    "    \n",
    "\n"
   ]
  },
  {
   "cell_type": "code",
   "execution_count": 44,
   "metadata": {},
   "outputs": [],
   "source": [
    "import collections\n",
    "import numpy as np\n",
    "GPU = device == \"cuda\"\n",
    "class UnigramSampler:\n",
    "    def __init__(self, corpus, power, sample_size):\n",
    "        self.sample_size = sample_size\n",
    "        self.vocab_size = None\n",
    "        self.word_p = None\n",
    "\n",
    "        counts = collections.Counter()\n",
    "        for word_id in corpus:\n",
    "            counts[word_id] += 1\n",
    "\n",
    "        vocab_size = len(counts)\n",
    "        self.vocab_size = vocab_size\n",
    "\n",
    "        self.word_p = np.zeros(vocab_size)\n",
    "        for i in range(vocab_size):\n",
    "            self.word_p[i] = counts[i]\n",
    "\n",
    "        self.word_p = np.power(self.word_p, power)\n",
    "        self.word_p /= np.sum(self.word_p)\n",
    "    def get_negative_sample(self, target):\n",
    "        batch_size = target.shape[0]\n",
    "\n",
    "        if not GPU:\n",
    "            negative_sample = np.zeros((batch_size, self.sample_size), dtype=np.int32)\n",
    "\n",
    "            for i in range(batch_size):\n",
    "                p = self.word_p.copy()\n",
    "                target_idx = target[i]\n",
    "                p[target_idx] = 0\n",
    "                p /= p.sum()\n",
    "                negative_sample[i, :] = np.random.choice(self.vocab_size, size=self.sample_size, replace=False, p=p)\n",
    "        else:\n",
    "            # 在用GPU(cupy）计算时，优先速度\n",
    "            # 有时目标词存在于负例中\n",
    "            negative_sample = np.random.choice(self.vocab_size, size=(batch_size, self.sample_size),\n",
    "                                               replace=True, p=self.word_p)\n",
    "\n",
    "        return negative_sample"
   ]
  },
  {
   "cell_type": "code",
   "execution_count": 91,
   "metadata": {},
   "outputs": [
    {
     "name": "stdout",
     "output_type": "stream",
     "text": [
      "torch.Size([929585, 4])\n",
      "torch.Size([929585])\n",
      "(929585,)\n",
      "(10, 1)\n",
      "batch_target_shapetorch.Size([10])\n",
      "W.sahpe torch.Size([10, 4, 5])\n"
     ]
    },
    {
     "data": {
      "text/plain": [
       "tensor(0.8997, grad_fn=<BinaryCrossEntropyWithLogitsBackward0>)"
      ]
     },
     "execution_count": 91,
     "metadata": {},
     "output_type": "execute_result"
    }
   ],
   "source": [
    "train_context = torch.tensor(context)\n",
    "train_target = torch.tensor(target)\n",
    "\n",
    "print(train_context.shape)\n",
    "print(train_target.shape)\n",
    "\n",
    "model = My_CBOW(vocab_size,hidden_size)\n",
    "optimizer = torch.optim.Adam(model.parameters())\n",
    "loss_fn = torch.nn.BCEWithLogitsLoss()\n",
    "\n",
    "\n",
    "\n",
    "\n",
    "## 取十条负样本\n",
    "#sampler = torch.utils.data.Sampler(data_source)\n",
    "\n",
    "smapler = UnigramSampler(corpus,0.75,1)\n",
    "\n",
    "\n",
    "print(target.shape)\n",
    "\n",
    "\n",
    "batch_context = train_context[:10]\n",
    "batch_target = train_target[:10]\n",
    "\n",
    "\n",
    "\n",
    "negative = smapler.get_negative_sample(batch_target)\n",
    "print(negative.shape)\n",
    "\n",
    "negative = torch.from_numpy(negative).squeeze(dim=1)\n",
    "##model.train()\n",
    "\n",
    "print(f\"batch_target_shape{batch_target.shape}\")\n",
    "train(model,loss_fn,optimizer,batch_context,batch_target,negative)\n",
    "\n",
    "\n",
    "\n"
   ]
  },
  {
   "cell_type": "code",
   "execution_count": 95,
   "metadata": {},
   "outputs": [
    {
     "name": "stdout",
     "output_type": "stream",
     "text": [
      "9295\n",
      "0 / 10 : losss is 0.8231571912765503\n"
     ]
    }
   ],
   "source": [
    " \n",
    " \n",
    "smapler = UnigramSampler(corpus,0.75,1)\n",
    "loop = train_target.shape[0] // batch_size\n",
    "\n",
    "\n",
    "print(loop)\n",
    "\n",
    "\n",
    "model = My_CBOW(vocab_size,hidden_size)\n",
    "optimizer = torch.optim.Adam(model.parameters())\n",
    "loss_fn = torch.nn.BCEWithLogitsLoss()\n",
    "\n",
    "\n",
    "loss = None\n",
    "\n",
    "for epoch in range(max_epoch):\n",
    "    for i in range(loop):\n",
    "        start = i * batch_size\n",
    "        end = (i + 1) * batch_size\n",
    "\n",
    "        b_context = train_context[start : end]\n",
    "        b_target =  train_target[start : end]\n",
    "        negative = smapler.get_negative_sample(b_target)\n",
    "        negative = torch.from_numpy(negative).squeeze(dim=1)\n",
    "\n",
    "        model.train()\n",
    "        loss = train(model,loss_fn,optimizer,b_context,b_target,negative)\n",
    "\n",
    "    print(f\"{epoch} / {max_epoch} : losss is {loss}\")\n",
    "\n",
    "                "
   ]
  }
 ],
 "metadata": {
  "interpreter": {
   "hash": "fe85713bd73e29e553e0fe93aab7a5c1beebd30dbde9209efd93f425af696249"
  },
  "kernelspec": {
   "display_name": "Python 3.8.12 ('language')",
   "language": "python",
   "name": "python3"
  },
  "language_info": {
   "codemirror_mode": {
    "name": "ipython",
    "version": 3
   },
   "file_extension": ".py",
   "mimetype": "text/x-python",
   "name": "python",
   "nbconvert_exporter": "python",
   "pygments_lexer": "ipython3",
   "version": "3.8.12"
  },
  "orig_nbformat": 4
 },
 "nbformat": 4,
 "nbformat_minor": 2
}
