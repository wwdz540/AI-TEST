{
 "cells": [
  {
   "cell_type": "code",
   "execution_count": 23,
   "id": "59c7772e",
   "metadata": {},
   "outputs": [
    {
     "name": "stdout",
     "output_type": "stream",
     "text": [
      "<class 'str'>\n"
     ]
    }
   ],
   "source": [
    "str = \"abc\"\n",
    "print(type(str))"
   ]
  },
  {
   "cell_type": "code",
   "execution_count": 25,
   "id": "e9cd5758",
   "metadata": {},
   "outputs": [
    {
     "name": "stdout",
     "output_type": "stream",
     "text": [
      "<class 'str'>\n"
     ]
    }
   ],
   "source": [
    "ss =str[0:-1]\n",
    "\n",
    "print(type(ss))\n"
   ]
  },
  {
   "cell_type": "code",
   "execution_count": 68,
   "id": "25e9ffae",
   "metadata": {},
   "outputs": [
    {
     "data": {
      "text/plain": [
       "[[0, 0, 0, 0], [1, 0, 0, 0], [2, 0, 0, 0], [3, 0, 0, 0]]"
      ]
     },
     "execution_count": 68,
     "metadata": {},
     "output_type": "execute_result"
    }
   ],
   "source": [
    "b = [[0 for i in range(4)]for j in range(4)]\n",
    "\n",
    "for i in range(4):\n",
    "    b[i][0] =i\n",
    "b"
   ]
  },
  {
   "cell_type": "code",
   "execution_count": 15,
   "id": "9bfff51c",
   "metadata": {},
   "outputs": [
    {
     "data": {
      "text/plain": [
       "1"
      ]
     },
     "execution_count": 15,
     "metadata": {},
     "output_type": "execute_result"
    }
   ],
   "source": [
    "min(1,2,3)\n",
    "\n"
   ]
  },
  {
   "cell_type": "code",
   "execution_count": 97,
   "id": "03c16ae6",
   "metadata": {},
   "outputs": [
    {
     "ename": "TypeError",
     "evalue": "'type' object is not subscriptable",
     "output_type": "error",
     "traceback": [
      "\u001b[0;31m---------------------------------------------------------------------------\u001b[0m",
      "\u001b[0;31mTypeError\u001b[0m                                 Traceback (most recent call last)",
      "\u001b[0;32m<ipython-input-97-11a5265f1c3d>\u001b[0m in \u001b[0;36m<module>\u001b[0;34m\u001b[0m\n\u001b[1;32m     16\u001b[0m \u001b[0;34m\u001b[0m\u001b[0m\n\u001b[1;32m     17\u001b[0m \u001b[0;34m\u001b[0m\u001b[0m\n\u001b[0;32m---> 18\u001b[0;31m \u001b[0mminEditDistance\u001b[0m\u001b[0;34m(\u001b[0m\u001b[0;34m\"ww\"\u001b[0m\u001b[0;34m,\u001b[0m\u001b[0;34m\"wzp\"\u001b[0m\u001b[0;34m)\u001b[0m\u001b[0;34m\u001b[0m\u001b[0;34m\u001b[0m\u001b[0m\n\u001b[0m",
      "\u001b[0;32m<ipython-input-97-11a5265f1c3d>\u001b[0m in \u001b[0;36mminEditDistance\u001b[0;34m(str1, str2)\u001b[0m\n\u001b[1;32m      9\u001b[0m \u001b[0;34m\u001b[0m\u001b[0m\n\u001b[1;32m     10\u001b[0m     return 1 + min(\n\u001b[0;32m---> 11\u001b[0;31m         \u001b[0mminEditDistance\u001b[0m\u001b[0;34m(\u001b[0m\u001b[0mstr1\u001b[0m\u001b[0;34m[\u001b[0m\u001b[0;36m0\u001b[0m\u001b[0;34m:\u001b[0m\u001b[0;34m-\u001b[0m\u001b[0;36m1\u001b[0m\u001b[0;34m]\u001b[0m\u001b[0;34m,\u001b[0m \u001b[0mstr2\u001b[0m\u001b[0;34m)\u001b[0m\u001b[0;34m,\u001b[0m    \u001b[0;31m#插入\u001b[0m\u001b[0;34m\u001b[0m\u001b[0;34m\u001b[0m\u001b[0m\n\u001b[0m\u001b[1;32m     12\u001b[0m         \u001b[0mminEditDistance\u001b[0m\u001b[0;34m(\u001b[0m\u001b[0mstr1\u001b[0m\u001b[0;34m,\u001b[0m \u001b[0mstr2\u001b[0m\u001b[0;34m[\u001b[0m\u001b[0;36m0\u001b[0m\u001b[0;34m:\u001b[0m\u001b[0;34m-\u001b[0m\u001b[0;36m1\u001b[0m\u001b[0;34m]\u001b[0m\u001b[0;34m)\u001b[0m\u001b[0;34m,\u001b[0m    \u001b[0;31m#删\u001b[0m\u001b[0;34m\u001b[0m\u001b[0;34m\u001b[0m\u001b[0m\n\u001b[1;32m     13\u001b[0m         \u001b[0mminEditDistance\u001b[0m\u001b[0;34m(\u001b[0m\u001b[0mstr\u001b[0m\u001b[0;34m[\u001b[0m\u001b[0;36m0\u001b[0m\u001b[0;34m:\u001b[0m\u001b[0;34m-\u001b[0m\u001b[0;36m1\u001b[0m\u001b[0;34m]\u001b[0m\u001b[0;34m,\u001b[0m \u001b[0mstr2\u001b[0m\u001b[0;34m[\u001b[0m\u001b[0;36m0\u001b[0m\u001b[0;34m:\u001b[0m\u001b[0;34m-\u001b[0m\u001b[0;36m1\u001b[0m\u001b[0;34m]\u001b[0m\u001b[0;34m)\u001b[0m    \u001b[0;31m##替换\u001b[0m\u001b[0;34m\u001b[0m\u001b[0;34m\u001b[0m\u001b[0m\n",
      "\u001b[0;32m<ipython-input-97-11a5265f1c3d>\u001b[0m in \u001b[0;36mminEditDistance\u001b[0;34m(str1, str2)\u001b[0m\n\u001b[1;32m     10\u001b[0m     return 1 + min(\n\u001b[1;32m     11\u001b[0m         \u001b[0mminEditDistance\u001b[0m\u001b[0;34m(\u001b[0m\u001b[0mstr1\u001b[0m\u001b[0;34m[\u001b[0m\u001b[0;36m0\u001b[0m\u001b[0;34m:\u001b[0m\u001b[0;34m-\u001b[0m\u001b[0;36m1\u001b[0m\u001b[0;34m]\u001b[0m\u001b[0;34m,\u001b[0m \u001b[0mstr2\u001b[0m\u001b[0;34m)\u001b[0m\u001b[0;34m,\u001b[0m    \u001b[0;31m#插入\u001b[0m\u001b[0;34m\u001b[0m\u001b[0;34m\u001b[0m\u001b[0m\n\u001b[0;32m---> 12\u001b[0;31m         \u001b[0mminEditDistance\u001b[0m\u001b[0;34m(\u001b[0m\u001b[0mstr1\u001b[0m\u001b[0;34m,\u001b[0m \u001b[0mstr2\u001b[0m\u001b[0;34m[\u001b[0m\u001b[0;36m0\u001b[0m\u001b[0;34m:\u001b[0m\u001b[0;34m-\u001b[0m\u001b[0;36m1\u001b[0m\u001b[0;34m]\u001b[0m\u001b[0;34m)\u001b[0m\u001b[0;34m,\u001b[0m    \u001b[0;31m#删\u001b[0m\u001b[0;34m\u001b[0m\u001b[0;34m\u001b[0m\u001b[0m\n\u001b[0m\u001b[1;32m     13\u001b[0m         \u001b[0mminEditDistance\u001b[0m\u001b[0;34m(\u001b[0m\u001b[0mstr\u001b[0m\u001b[0;34m[\u001b[0m\u001b[0;36m0\u001b[0m\u001b[0;34m:\u001b[0m\u001b[0;34m-\u001b[0m\u001b[0;36m1\u001b[0m\u001b[0;34m]\u001b[0m\u001b[0;34m,\u001b[0m \u001b[0mstr2\u001b[0m\u001b[0;34m[\u001b[0m\u001b[0;36m0\u001b[0m\u001b[0;34m:\u001b[0m\u001b[0;34m-\u001b[0m\u001b[0;36m1\u001b[0m\u001b[0;34m]\u001b[0m\u001b[0;34m)\u001b[0m    \u001b[0;31m##替换\u001b[0m\u001b[0;34m\u001b[0m\u001b[0;34m\u001b[0m\u001b[0m\n\u001b[1;32m     14\u001b[0m     )\n",
      "\u001b[0;32m<ipython-input-97-11a5265f1c3d>\u001b[0m in \u001b[0;36mminEditDistance\u001b[0;34m(str1, str2)\u001b[0m\n\u001b[1;32m     11\u001b[0m         \u001b[0mminEditDistance\u001b[0m\u001b[0;34m(\u001b[0m\u001b[0mstr1\u001b[0m\u001b[0;34m[\u001b[0m\u001b[0;36m0\u001b[0m\u001b[0;34m:\u001b[0m\u001b[0;34m-\u001b[0m\u001b[0;36m1\u001b[0m\u001b[0;34m]\u001b[0m\u001b[0;34m,\u001b[0m \u001b[0mstr2\u001b[0m\u001b[0;34m)\u001b[0m\u001b[0;34m,\u001b[0m    \u001b[0;31m#插入\u001b[0m\u001b[0;34m\u001b[0m\u001b[0;34m\u001b[0m\u001b[0m\n\u001b[1;32m     12\u001b[0m         \u001b[0mminEditDistance\u001b[0m\u001b[0;34m(\u001b[0m\u001b[0mstr1\u001b[0m\u001b[0;34m,\u001b[0m \u001b[0mstr2\u001b[0m\u001b[0;34m[\u001b[0m\u001b[0;36m0\u001b[0m\u001b[0;34m:\u001b[0m\u001b[0;34m-\u001b[0m\u001b[0;36m1\u001b[0m\u001b[0;34m]\u001b[0m\u001b[0;34m)\u001b[0m\u001b[0;34m,\u001b[0m    \u001b[0;31m#删\u001b[0m\u001b[0;34m\u001b[0m\u001b[0;34m\u001b[0m\u001b[0m\n\u001b[0;32m---> 13\u001b[0;31m         \u001b[0mminEditDistance\u001b[0m\u001b[0;34m(\u001b[0m\u001b[0mstr\u001b[0m\u001b[0;34m[\u001b[0m\u001b[0;36m0\u001b[0m\u001b[0;34m:\u001b[0m\u001b[0;34m-\u001b[0m\u001b[0;36m1\u001b[0m\u001b[0;34m]\u001b[0m\u001b[0;34m,\u001b[0m \u001b[0mstr2\u001b[0m\u001b[0;34m[\u001b[0m\u001b[0;36m0\u001b[0m\u001b[0;34m:\u001b[0m\u001b[0;34m-\u001b[0m\u001b[0;36m1\u001b[0m\u001b[0;34m]\u001b[0m\u001b[0;34m)\u001b[0m    \u001b[0;31m##替换\u001b[0m\u001b[0;34m\u001b[0m\u001b[0;34m\u001b[0m\u001b[0m\n\u001b[0m\u001b[1;32m     14\u001b[0m     )\n\u001b[1;32m     15\u001b[0m \u001b[0;34m\u001b[0m\u001b[0m\n",
      "\u001b[0;31mTypeError\u001b[0m: 'type' object is not subscriptable"
     ]
    }
   ],
   "source": [
    "def minEditDistance(str1 , str2):\n",
    "    if len(str1) == 0 :\n",
    "        return len(str2)\n",
    "    elif len(str2) == 0:\n",
    "        return len(str1)\n",
    "    \n",
    "    if(str1[-1] == str2[-1]) :\n",
    "        return minEditDistance(str1[0:-1],str2[0:-1]) \n",
    "    \n",
    "    return 1 + min(\n",
    "        minEditDistance(str1[0:-1], str2),    #插入\n",
    "        minEditDistance(str1, str2[0:-1]),    #删\n",
    "        minEditDistance(str[0:-1], str2[0:-1])    ##替换\n",
    "    )\n",
    "\n",
    "\n",
    "\n",
    "minEditDistance(\"ww\",\"wzp\")"
   ]
  },
  {
   "cell_type": "code",
   "execution_count": null,
   "id": "5be3c9a5",
   "metadata": {},
   "outputs": [],
   "source": [
    "#minEditDistance(\"以上就是小编为大家带来的关于python if else用法的内容，希望对大家有帮助\",\"说明：不过需要注意的是else是必须要与if联合使用，通常不能够单独使用。\")\n"
   ]
  },
  {
   "cell_type": "code",
   "execution_count": 101,
   "id": "f501b852",
   "metadata": {},
   "outputs": [
    {
     "name": "stdout",
     "output_type": "stream",
     "text": [
      "m=3,n=3\n",
      "[0, 1, 2, 3]\n",
      "[1, 0, 0, 0]\n",
      "[2, 0, 0, 0]\n",
      "[3, 0, 0, 0]\n",
      "===\n",
      "[0, 1, 2, 3]\n",
      "[1, 0, 1, 2]\n",
      "[2, 1, 1, 2]\n",
      "[3, 2, 2, 2]\n"
     ]
    }
   ],
   "source": [
    "def prettyPrint(dp):\n",
    "    for i in range(len(dp)):\n",
    "        print(dp[i])\n",
    "\n",
    "def minEditDistance(str1, str2):\n",
    "    m , n = len(str1) , len(str2)\n",
    "    print(\"m=%d,n=%d\"%(m,n))\n",
    "    dp = [[0 for j in range(n+1)] for i in range(m+1)]\n",
    "#    print(dp)\n",
    "    for i in range(1,m+1):\n",
    "        dp[i][0] =i\n",
    "    for j in range(1,n+1):\n",
    "        dp[0][j]=j\n",
    "    prettyPrint(dp)\n",
    "    \n",
    "    for i in range(m):\n",
    "        for j in range(n):\n",
    "            if str1[i] == str2[j] :\n",
    "                dp[i+1][j+1]=dp[i][j]\n",
    "            else:\n",
    "                dp[i+1][j+1] = min(dp[i][j],dp[i+1][j],dp[i][j+1]) +1\n",
    "           \n",
    "    print(\"===\")\n",
    "    prettyPrint(dp)\n",
    "    \n",
    "minEditDistance(\"wzp\",\"wod\")\n",
    "\n"
   ]
  },
  {
   "cell_type": "code",
   "execution_count": 38,
   "id": "aeb2ba6d",
   "metadata": {},
   "outputs": [
    {
     "name": "stdout",
     "output_type": "stream",
     "text": [
      "[0, 1, 2]\n"
     ]
    }
   ],
   "source": [
    "f =[0,0,0]\n",
    "\n",
    "for i in range(3):\n",
    "    f[i] = i\n",
    "    \n",
    "print(f)\n"
   ]
  },
  {
   "cell_type": "code",
   "execution_count": 8,
   "id": "ec730105",
   "metadata": {},
   "outputs": [
    {
     "data": {
      "text/plain": [
       "3"
      ]
     },
     "execution_count": 8,
     "metadata": {},
     "output_type": "execute_result"
    }
   ],
   "source": [
    "## 求最大子升序子序列，递归实现\n",
    "def L(nums,i):\n",
    "    \"\"\"Returns the length of longest increasing subsquence starting from  i\"\"\"\n",
    "    \n",
    "    if i == len(nums)-1:\n",
    "        return 1\n",
    "    \n",
    "    max_len = 1\n",
    "    for j in range(i+1,len(nums)):\n",
    "        if nums[j] > nums[i] :\n",
    "            max_len = max(max_len,L(nums,j)+1)\n",
    "    return max_len\n",
    "\n",
    "def length_of_LIS(nums):\n",
    "    return max(L(nums,i) for i in range(len(nums)))\n",
    "\n",
    "nums = [1,5,2,4,3]\n",
    "\n",
    "length_of_LIS(nums)"
   ]
  },
  {
   "cell_type": "code",
   "execution_count": null,
   "id": "934baa7c",
   "metadata": {},
   "outputs": [],
   "source": [
    "## 带备忘录的递归"
   ]
  },
  {
   "cell_type": "code",
   "execution_count": 10,
   "id": "35407df9",
   "metadata": {},
   "outputs": [
    {
     "data": {
      "text/plain": [
       "3"
      ]
     },
     "execution_count": 10,
     "metadata": {},
     "output_type": "execute_result"
    }
   ],
   "source": [
    "## 求最大子升序子序列，递归实现\n",
    "memo = {}\n",
    "def L(nums,i):\n",
    "    \"\"\"Returns the length of longest increasing subsquence starting from  i\"\"\"\n",
    "    if i in memo:\n",
    "        return memo[i]\n",
    "    \n",
    "    if i == len(nums)-1:\n",
    "        return 1\n",
    "    \n",
    "    max_len = 1\n",
    "    for j in range(i+1,len(nums)):\n",
    "        if nums[j] > nums[i] :\n",
    "            max_len = max(max_len,L(nums,j)+1)\n",
    "            \n",
    "    memo[i] = max_len\n",
    "    return max_len\n",
    "\n",
    "def length_of_LIS(nums):\n",
    "    return max(L(nums,i) for i in range(len(nums)))\n",
    "\n",
    "nums = [1,5,2,4,3]\n",
    "\n",
    "length_of_LIS(nums)"
   ]
  },
  {
   "cell_type": "code",
   "execution_count": 13,
   "id": "27778203",
   "metadata": {},
   "outputs": [
    {
     "name": "stdout",
     "output_type": "stream",
     "text": [
      "[1, 1, 1, 1, 1]\n",
      "[1, 3, 1, 2, 1]\n"
     ]
    },
    {
     "data": {
      "text/plain": [
       "3"
      ]
     },
     "execution_count": 13,
     "metadata": {},
     "output_type": "execute_result"
    }
   ],
   "source": [
    "#动态规划\n",
    "\n",
    "def length_of_LIS(nums):\n",
    "    n = len(nums);\n",
    "    L = [1] * n\n",
    "    print(L)\n",
    "    \n",
    "    for i in reversed(range(n)):\n",
    "        for j in range(i+1,n):\n",
    "            if nums[i] > nums[j]:\n",
    "                L[i] = max(L[i],L[j] +1)\n",
    "    print(L)\n",
    "    return max(L)\n",
    "\n",
    "\n",
    "\n",
    "length_of_LIS(nums)"
   ]
  },
  {
   "cell_type": "code",
   "execution_count": null,
   "id": "1f78aa43",
   "metadata": {},
   "outputs": [],
   "source": []
  }
 ],
 "metadata": {
  "kernelspec": {
   "display_name": "Python 3",
   "language": "python",
   "name": "python3"
  },
  "language_info": {
   "codemirror_mode": {
    "name": "ipython",
    "version": 3
   },
   "file_extension": ".py",
   "mimetype": "text/x-python",
   "name": "python",
   "nbconvert_exporter": "python",
   "pygments_lexer": "ipython3",
   "version": "3.8.10"
  }
 },
 "nbformat": 4,
 "nbformat_minor": 5
}
