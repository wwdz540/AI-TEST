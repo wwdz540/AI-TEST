{
 "cells": [
  {
   "cell_type": "code",
   "execution_count": 2,
   "id": "7d440a96",
   "metadata": {},
   "outputs": [],
   "source": [
    "import numpy as np\n"
   ]
  },
  {
   "cell_type": "code",
   "execution_count": null,
   "id": "0b1639eb",
   "metadata": {},
   "outputs": [],
   "source": []
  },
  {
   "cell_type": "code",
   "execution_count": null,
   "id": "697226e9",
   "metadata": {},
   "outputs": [],
   "source": []
  },
  {
   "cell_type": "code",
   "execution_count": 4,
   "id": "e64975d5",
   "metadata": {},
   "outputs": [],
   "source": [
    "a = np.arange(24)\n"
   ]
  },
  {
   "cell_type": "code",
   "execution_count": 5,
   "id": "6f1d0e66",
   "metadata": {},
   "outputs": [
    {
     "data": {
      "text/plain": [
       "array([ 0,  1,  2,  3,  4,  5,  6,  7,  8,  9, 10, 11, 12, 13, 14, 15, 16,\n",
       "       17, 18, 19, 20, 21, 22, 23])"
      ]
     },
     "execution_count": 5,
     "metadata": {},
     "output_type": "execute_result"
    }
   ],
   "source": [
    "a"
   ]
  },
  {
   "cell_type": "code",
   "execution_count": 8,
   "id": "91e030f5",
   "metadata": {},
   "outputs": [
    {
     "data": {
      "text/plain": [
       "1"
      ]
     },
     "execution_count": 8,
     "metadata": {},
     "output_type": "execute_result"
    }
   ],
   "source": [
    "a.ndim"
   ]
  },
  {
   "cell_type": "code",
   "execution_count": 11,
   "id": "734f55cb",
   "metadata": {},
   "outputs": [
    {
     "data": {
      "text/plain": [
       "(24,)"
      ]
     },
     "execution_count": 11,
     "metadata": {},
     "output_type": "execute_result"
    }
   ],
   "source": [
    "a.shape"
   ]
  },
  {
   "cell_type": "code",
   "execution_count": 13,
   "id": "61fd1242",
   "metadata": {},
   "outputs": [],
   "source": [
    "a=a.reshape(2,3,4)"
   ]
  },
  {
   "cell_type": "code",
   "execution_count": 18,
   "id": "b4642efa",
   "metadata": {},
   "outputs": [
    {
     "data": {
      "text/plain": [
       "3"
      ]
     },
     "execution_count": 18,
     "metadata": {},
     "output_type": "execute_result"
    }
   ],
   "source": [
    "a.ndim\n"
   ]
  },
  {
   "cell_type": "code",
   "execution_count": 19,
   "id": "fe6fc61d",
   "metadata": {},
   "outputs": [
    {
     "data": {
      "text/plain": [
       "(2, 3, 4)"
      ]
     },
     "execution_count": 19,
     "metadata": {},
     "output_type": "execute_result"
    }
   ],
   "source": [
    "a.shape"
   ]
  },
  {
   "cell_type": "code",
   "execution_count": 30,
   "id": "4f0a8eee",
   "metadata": {},
   "outputs": [
    {
     "name": "stdout",
     "output_type": "stream",
     "text": [
      "(3, 2, 3)\n"
     ]
    }
   ],
   "source": [
    "a = np.array([[[1,2,3],[4,5,6]],[[1,2,3],[4,5,6]],[[1,2,3],[4,5,6]]])\n",
    "print(a.shape)"
   ]
  },
  {
   "cell_type": "code",
   "execution_count": 5,
   "id": "53a6fa4c",
   "metadata": {},
   "outputs": [],
   "source": [
    "x = np.arange(32).reshape((8,4))"
   ]
  },
  {
   "cell_type": "code",
   "execution_count": 6,
   "id": "84f762fa",
   "metadata": {},
   "outputs": [
    {
     "data": {
      "text/plain": [
       "array([[ 0,  1,  2,  3],\n",
       "       [ 4,  5,  6,  7],\n",
       "       [ 8,  9, 10, 11],\n",
       "       [12, 13, 14, 15],\n",
       "       [16, 17, 18, 19],\n",
       "       [20, 21, 22, 23],\n",
       "       [24, 25, 26, 27],\n",
       "       [28, 29, 30, 31]])"
      ]
     },
     "execution_count": 6,
     "metadata": {},
     "output_type": "execute_result"
    }
   ],
   "source": [
    "x"
   ]
  },
  {
   "cell_type": "code",
   "execution_count": 8,
   "id": "521d348c",
   "metadata": {},
   "outputs": [
    {
     "data": {
      "text/plain": [
       "array([[28, 29, 30, 31],\n",
       "       [ 4,  5,  6,  7]])"
      ]
     },
     "execution_count": 8,
     "metadata": {},
     "output_type": "execute_result"
    }
   ],
   "source": [
    "x[[-1,1]]"
   ]
  },
  {
   "cell_type": "code",
   "execution_count": 10,
   "id": "3cc446d0",
   "metadata": {},
   "outputs": [
    {
     "data": {
      "text/plain": [
       "array([[ 6,  7],\n",
       "       [14, 15]])"
      ]
     },
     "execution_count": 10,
     "metadata": {},
     "output_type": "execute_result"
    }
   ],
   "source": [
    "x[np.ix_([1,3],[2,3])]"
   ]
  },
  {
   "cell_type": "code",
   "execution_count": 16,
   "id": "c118df75",
   "metadata": {},
   "outputs": [
    {
     "name": "stdout",
     "output_type": "stream",
     "text": [
      "[[[0 1]\n",
      "  [2 3]]\n",
      "\n",
      " [[4 5]\n",
      "  [6 7]]]\n",
      "(array([1]), array([1]), array([0]))\n",
      "6\n"
     ]
    }
   ],
   "source": [
    "a = np.arange(8).reshape([2,2,2])\n",
    "print(a)\n",
    "\n",
    "print(np.where(a==6))\n",
    "print(a[1,1,0])"
   ]
  },
  {
   "cell_type": "code",
   "execution_count": 19,
   "id": "0dab1989",
   "metadata": {},
   "outputs": [
    {
     "name": "stdout",
     "output_type": "stream",
     "text": [
      "(array([0]), array([1]), array([1]))\n"
     ]
    }
   ],
   "source": [
    "b = np.rollaxis(a,2,0)\n",
    "\n",
    "print(np.where(b==6))\n"
   ]
  },
  {
   "cell_type": "code",
   "execution_count": 36,
   "id": "bbb1e38f",
   "metadata": {},
   "outputs": [],
   "source": [
    "### 广播对象\n",
    "\n",
    "x = np.array([[1],[2],[3]])\n",
    "y = np.array([1,2,3])\n",
    "b = np.broadcast(x,y)"
   ]
  },
  {
   "cell_type": "code",
   "execution_count": null,
   "id": "e86fc898",
   "metadata": {},
   "outputs": [],
   "source": []
  },
  {
   "cell_type": "code",
   "execution_count": 37,
   "id": "6235122f",
   "metadata": {},
   "outputs": [
    {
     "data": {
      "text/plain": [
       "numpy.broadcast"
      ]
     },
     "execution_count": 37,
     "metadata": {},
     "output_type": "execute_result"
    }
   ],
   "source": [
    "type(b)"
   ]
  },
  {
   "cell_type": "code",
   "execution_count": null,
   "id": "88d50823",
   "metadata": {},
   "outputs": [],
   "source": []
  },
  {
   "cell_type": "code",
   "execution_count": 38,
   "id": "a0f0e883",
   "metadata": {},
   "outputs": [],
   "source": [
    "r,c = b.iters"
   ]
  },
  {
   "cell_type": "code",
   "execution_count": null,
   "id": "72abd6f6",
   "metadata": {},
   "outputs": [],
   "source": []
  },
  {
   "cell_type": "code",
   "execution_count": 40,
   "id": "9dfdfa02",
   "metadata": {},
   "outputs": [
    {
     "data": {
      "text/plain": [
       "(numpy.flatiter, numpy.flatiter)"
      ]
     },
     "execution_count": 40,
     "metadata": {},
     "output_type": "execute_result"
    }
   ],
   "source": [
    "type(r),type(c)"
   ]
  },
  {
   "cell_type": "code",
   "execution_count": 29,
   "id": "add4c636",
   "metadata": {},
   "outputs": [
    {
     "name": "stdout",
     "output_type": "stream",
     "text": [
      "2 2\n",
      "2 3\n"
     ]
    },
    {
     "data": {
      "text/plain": [
       "(3, 3)"
      ]
     },
     "execution_count": 29,
     "metadata": {},
     "output_type": "execute_result"
    }
   ],
   "source": [
    "print (next(r), next(c))\n",
    "print (next(r), next(c))\n",
    "b.shape"
   ]
  },
  {
   "cell_type": "code",
   "execution_count": 31,
   "id": "611c919a",
   "metadata": {},
   "outputs": [],
   "source": [
    "c = np.empty(b.shape)"
   ]
  },
  {
   "cell_type": "code",
   "execution_count": 32,
   "id": "45be59cf",
   "metadata": {},
   "outputs": [
    {
     "data": {
      "text/plain": [
       "array([[ 1.14285714, -2.28571429,  0.57142857],\n",
       "       [-2.28571429,  4.97142857, -1.54285714],\n",
       "       [ 0.57142857, -1.54285714,  0.88571429]])"
      ]
     },
     "execution_count": 32,
     "metadata": {},
     "output_type": "execute_result"
    }
   ],
   "source": [
    "c"
   ]
  },
  {
   "cell_type": "code",
   "execution_count": 34,
   "id": "276f3485",
   "metadata": {},
   "outputs": [
    {
     "data": {
      "text/plain": [
       "array([[ 5.00000000e+00,  6.00000000e+00,  5.62949953e+14],\n",
       "       [ 5.62949953e+14,  5.62949953e+14, -6.91752903e+18],\n",
       "       [-6.91752903e+18, -6.91752903e+18,  5.00000000e+00]])"
      ]
     },
     "execution_count": 34,
     "metadata": {},
     "output_type": "execute_result"
    }
   ],
   "source": [
    "c.flat=[u + v for (u ,v) in b]\n",
    "c"
   ]
  },
  {
   "cell_type": "code",
   "execution_count": 41,
   "id": "69c16546",
   "metadata": {},
   "outputs": [
    {
     "data": {
      "text/plain": [
       "array([[2, 3, 4],\n",
       "       [3, 4, 5],\n",
       "       [4, 5, 6]])"
      ]
     },
     "execution_count": 41,
     "metadata": {},
     "output_type": "execute_result"
    }
   ],
   "source": [
    "x + y"
   ]
  },
  {
   "cell_type": "code",
   "execution_count": 45,
   "id": "87b92bf7",
   "metadata": {},
   "outputs": [
    {
     "data": {
      "text/plain": [
       "(2, 2)"
      ]
     },
     "execution_count": 45,
     "metadata": {},
     "output_type": "execute_result"
    }
   ],
   "source": [
    "x = np.array([[1,2],[3,4]])\n",
    "x.shape"
   ]
  },
  {
   "cell_type": "code",
   "execution_count": 47,
   "id": "a4b02679",
   "metadata": {},
   "outputs": [
    {
     "data": {
      "text/plain": [
       "(1, 2, 2)"
      ]
     },
     "execution_count": 47,
     "metadata": {},
     "output_type": "execute_result"
    }
   ],
   "source": [
    "y = np.expand_dims(x,axis=0)\n",
    "y.shape"
   ]
  },
  {
   "cell_type": "code",
   "execution_count": 48,
   "id": "128b8d26",
   "metadata": {},
   "outputs": [
    {
     "data": {
      "text/plain": [
       "array([[[1, 2],\n",
       "        [3, 4]]])"
      ]
     },
     "execution_count": 48,
     "metadata": {},
     "output_type": "execute_result"
    }
   ],
   "source": [
    "y"
   ]
  },
  {
   "cell_type": "code",
   "execution_count": 50,
   "id": "163c9b11",
   "metadata": {},
   "outputs": [
    {
     "data": {
      "text/plain": [
       "(2, 1, 2)"
      ]
     },
     "execution_count": 50,
     "metadata": {},
     "output_type": "execute_result"
    }
   ],
   "source": [
    "y = np.expand_dims(x,axis=1)\n",
    "y.shape"
   ]
  },
  {
   "cell_type": "code",
   "execution_count": 51,
   "id": "c00f6d50",
   "metadata": {},
   "outputs": [
    {
     "data": {
      "text/plain": [
       "array([[[1, 2]],\n",
       "\n",
       "       [[3, 4]]])"
      ]
     },
     "execution_count": 51,
     "metadata": {},
     "output_type": "execute_result"
    }
   ],
   "source": [
    "y"
   ]
  },
  {
   "cell_type": "code",
   "execution_count": 4,
   "id": "e68a36c8",
   "metadata": {},
   "outputs": [
    {
     "name": "stdout",
     "output_type": "stream",
     "text": [
      "[[[[4 2 4]\n",
      "   [4 4 3]]\n",
      "\n",
      "  [[3 2 1]\n",
      "   [3 1 2]]\n",
      "\n",
      "  [[2 3 0]\n",
      "   [3 1 1]]]\n",
      "\n",
      "\n",
      " [[[3 2 4]\n",
      "   [1 3 2]]\n",
      "\n",
      "  [[4 0 3]\n",
      "   [0 1 3]]\n",
      "\n",
      "  [[4 4 4]\n",
      "   [2 0 1]]]\n",
      "\n",
      "\n",
      " [[[4 2 1]\n",
      "   [2 3 1]]\n",
      "\n",
      "  [[0 2 0]\n",
      "   [1 0 3]]\n",
      "\n",
      "  [[4 3 0]\n",
      "   [2 3 4]]]\n",
      "\n",
      "\n",
      " [[[1 3 4]\n",
      "   [0 0 2]]\n",
      "\n",
      "  [[1 1 3]\n",
      "   [0 2 3]]\n",
      "\n",
      "  [[3 3 3]\n",
      "   [2 1 2]]]]\n"
     ]
    }
   ],
   "source": [
    "data = np.random.randint(0,5,[4,3,2,3])\n",
    "print(data)"
   ]
  },
  {
   "cell_type": "code",
   "execution_count": 5,
   "id": "160bba09",
   "metadata": {},
   "outputs": [
    {
     "data": {
      "text/plain": [
       "153"
      ]
     },
     "execution_count": 5,
     "metadata": {},
     "output_type": "execute_result"
    }
   ],
   "source": [
    "data.sum()"
   ]
  },
  {
   "cell_type": "code",
   "execution_count": 7,
   "id": "c4cd5d18",
   "metadata": {},
   "outputs": [
    {
     "name": "stdout",
     "output_type": "stream",
     "text": [
      "[[[12  9 13]\n",
      "  [ 7 10  8]]\n",
      "\n",
      " [[ 8  5  7]\n",
      "  [ 4  4 11]]\n",
      "\n",
      " [[13 13  7]\n",
      "  [ 9  5  8]]]\n",
      "(3, 2, 3)\n"
     ]
    }
   ],
   "source": [
    "tt = data.sum(axis=0)\n",
    "print(tt)\n",
    "print(tt.shape)"
   ]
  },
  {
   "cell_type": "code",
   "execution_count": null,
   "id": "906485fc",
   "metadata": {},
   "outputs": [],
   "source": [
    "tt = data.sum(axis=0)\n",
    "print(tt)\n",
    "print(tt.shape)"
   ]
  },
  {
   "cell_type": "code",
   "execution_count": 8,
   "id": "f993e74e",
   "metadata": {},
   "outputs": [
    {
     "name": "stdout",
     "output_type": "stream",
     "text": [
      "[[[ 9  7  5]\n",
      "  [10  6  6]]\n",
      "\n",
      " [[11  6 11]\n",
      "  [ 3  4  6]]\n",
      "\n",
      " [[ 8  7  1]\n",
      "  [ 5  6  8]]\n",
      "\n",
      " [[ 5  7 10]\n",
      "  [ 2  3  7]]]\n",
      "(4, 2, 3)\n"
     ]
    }
   ],
   "source": [
    "tt = data.sum(axis=1)\n",
    "print(tt)\n",
    "print(tt.shape)"
   ]
  },
  {
   "cell_type": "code",
   "execution_count": null,
   "id": "f439e6ce",
   "metadata": {},
   "outputs": [],
   "source": []
  }
 ],
 "metadata": {
  "kernelspec": {
   "display_name": "Python 3",
   "language": "python",
   "name": "python3"
  },
  "language_info": {
   "codemirror_mode": {
    "name": "ipython",
    "version": 3
   },
   "file_extension": ".py",
   "mimetype": "text/x-python",
   "name": "python",
   "nbconvert_exporter": "python",
   "pygments_lexer": "ipython3",
   "version": "3.8.10"
  }
 },
 "nbformat": 4,
 "nbformat_minor": 5
}
