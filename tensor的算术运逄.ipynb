{
 "cells": [
  {
   "cell_type": "code",
   "execution_count": 1,
   "metadata": {},
   "outputs": [],
   "source": [
    "import torch as t"
   ]
  },
  {
   "cell_type": "code",
   "execution_count": 3,
   "metadata": {},
   "outputs": [],
   "source": [
    "a = t.tensor([2,3])"
   ]
  },
  {
   "cell_type": "code",
   "execution_count": 4,
   "metadata": {},
   "outputs": [],
   "source": [
    "b= t.tensor([5,4])"
   ]
  },
  {
   "cell_type": "code",
   "execution_count": 5,
   "metadata": {},
   "outputs": [
    {
     "data": {
      "text/plain": [
       "tensor([7, 7])"
      ]
     },
     "execution_count": 5,
     "metadata": {},
     "output_type": "execute_result"
    }
   ],
   "source": [
    "a+b"
   ]
  },
  {
   "cell_type": "code",
   "execution_count": 6,
   "metadata": {},
   "outputs": [
    {
     "data": {
      "text/plain": [
       "tensor([7, 7])"
      ]
     },
     "execution_count": 6,
     "metadata": {},
     "output_type": "execute_result"
    }
   ],
   "source": [
    "a.add(b)"
   ]
  },
  {
   "cell_type": "code",
   "execution_count": 7,
   "metadata": {},
   "outputs": [
    {
     "data": {
      "text/plain": [
       "tensor([7, 7])"
      ]
     },
     "execution_count": 7,
     "metadata": {},
     "output_type": "execute_result"
    }
   ],
   "source": [
    "a.add_(b)\n"
   ]
  },
  {
   "cell_type": "code",
   "execution_count": 9,
   "metadata": {},
   "outputs": [
    {
     "data": {
      "text/plain": [
       "tensor([7, 7])"
      ]
     },
     "execution_count": 9,
     "metadata": {},
     "output_type": "execute_result"
    }
   ],
   "source": [
    "a"
   ]
  },
  {
   "cell_type": "code",
   "execution_count": 10,
   "metadata": {},
   "outputs": [],
   "source": [
    "a = t.tensor([2,3])\n"
   ]
  },
  {
   "cell_type": "code",
   "execution_count": 11,
   "metadata": {},
   "outputs": [
    {
     "data": {
      "text/plain": [
       "tensor([2, 3])"
      ]
     },
     "execution_count": 11,
     "metadata": {},
     "output_type": "execute_result"
    }
   ],
   "source": [
    "a"
   ]
  },
  {
   "cell_type": "code",
   "execution_count": 12,
   "metadata": {},
   "outputs": [
    {
     "data": {
      "text/plain": [
       "tensor([10, 12])"
      ]
     },
     "execution_count": 12,
     "metadata": {},
     "output_type": "execute_result"
    }
   ],
   "source": [
    "a*b\n"
   ]
  },
  {
   "cell_type": "code",
   "execution_count": 14,
   "metadata": {},
   "outputs": [
    {
     "data": {
      "text/plain": [
       "tensor([10, 12])"
      ]
     },
     "execution_count": 14,
     "metadata": {},
     "output_type": "execute_result"
    }
   ],
   "source": [
    "t.mul(a,b)"
   ]
  },
  {
   "cell_type": "code",
   "execution_count": 15,
   "metadata": {},
   "outputs": [
    {
     "data": {
      "text/plain": [
       "tensor([10, 12])"
      ]
     },
     "execution_count": 15,
     "metadata": {},
     "output_type": "execute_result"
    }
   ],
   "source": [
    "a.mul(b)"
   ]
  },
  {
   "cell_type": "code",
   "execution_count": 19,
   "metadata": {},
   "outputs": [
    {
     "name": "stdout",
     "output_type": "stream",
     "text": [
      "tensor([[1.],\n",
      "        [1.]])\n",
      "tensor([[1., 1.]])\n",
      "------\n",
      "tensor([[1., 1.],\n",
      "        [1., 1.]])\n"
     ]
    }
   ],
   "source": [
    "### 二维算术运算--矩阵运算\n",
    "a = t.ones(2,1)\n",
    "b = t.ones(1,2)\n",
    "print(a)\n",
    "print(b)\n",
    "\n",
    "print('------')\n",
    "print (a @ b)\n"
   ]
  },
  {
   "cell_type": "code",
   "execution_count": 29,
   "metadata": {},
   "outputs": [
    {
     "data": {
      "text/plain": [
       "tensor([[11]])"
      ]
     },
     "execution_count": 29,
     "metadata": {},
     "output_type": "execute_result"
    }
   ],
   "source": [
    "a = t.tensor([[1,2]])\n",
    "b = t.tensor([[3],[4]])\n",
    "a.mm(b)\n"
   ]
  },
  {
   "cell_type": "code",
   "execution_count": 30,
   "metadata": {},
   "outputs": [
    {
     "data": {
      "text/plain": [
       "tensor([[11]])"
      ]
     },
     "execution_count": 30,
     "metadata": {},
     "output_type": "execute_result"
    }
   ],
   "source": [
    "a.matmul(b)"
   ]
  },
  {
   "cell_type": "code",
   "execution_count": null,
   "metadata": {},
   "outputs": [],
   "source": [
    "### 对于高维的Tensor（dim>2),定义其矩阵乘法仅在最后的两个维度上，\n",
    "### 要求当前的维度必须保持一致\n",
    "## 就象矩阵的索引一样并且运算只有torch.matmul().\n"
   ]
  },
  {
   "cell_type": "code",
   "execution_count": 36,
   "metadata": {},
   "outputs": [],
   "source": [
    "a = t.ones(1,2,3,4)\n",
    "b = t.ones(1,2,4,4)"
   ]
  },
  {
   "cell_type": "code",
   "execution_count": 37,
   "metadata": {},
   "outputs": [
    {
     "data": {
      "text/plain": [
       "tensor([[[[4., 4., 4., 4.],\n",
       "          [4., 4., 4., 4.],\n",
       "          [4., 4., 4., 4.]],\n",
       "\n",
       "         [[4., 4., 4., 4.],\n",
       "          [4., 4., 4., 4.],\n",
       "          [4., 4., 4., 4.]]]])"
      ]
     },
     "execution_count": 37,
     "metadata": {},
     "output_type": "execute_result"
    }
   ],
   "source": [
    "r = a.matmul(b)\n",
    "r"
   ]
  },
  {
   "cell_type": "code",
   "execution_count": 38,
   "metadata": {},
   "outputs": [
    {
     "data": {
      "text/plain": [
       "torch.Size([1, 2, 3, 4])"
      ]
     },
     "execution_count": 38,
     "metadata": {},
     "output_type": "execute_result"
    }
   ],
   "source": [
    "r.shape"
   ]
  },
  {
   "cell_type": "code",
   "execution_count": 39,
   "metadata": {},
   "outputs": [],
   "source": [
    "a = t.tensor([3,4])"
   ]
  },
  {
   "cell_type": "code",
   "execution_count": 43,
   "metadata": {},
   "outputs": [
    {
     "name": "stdout",
     "output_type": "stream",
     "text": [
      "tensor([ 9, 16])\n",
      "tensor([ 9, 16])\n",
      "tensor([ 9, 16])\n",
      "tensor([ 9, 16])\n"
     ]
    }
   ],
   "source": [
    "###幂运算 \n",
    "print(t.pow(a,2))\n",
    "print(a.pow(2))\n",
    "print(a**2)\n",
    "a.pow_(2)\n",
    "print(a)"
   ]
  },
  {
   "cell_type": "code",
   "execution_count": 48,
   "metadata": {},
   "outputs": [
    {
     "data": {
      "text/plain": [
       "tensor([20.0855, 54.5982], dtype=torch.float64)"
      ]
     },
     "execution_count": 48,
     "metadata": {},
     "output_type": "execute_result"
    }
   ],
   "source": [
    "### exp\n",
    "a = t.tensor(data=[3,4],dtype=t.float64)\n",
    "a.exp()"
   ]
  },
  {
   "cell_type": "code",
   "execution_count": 50,
   "metadata": {},
   "outputs": [
    {
     "data": {
      "text/plain": [
       "tensor([ 9., 16.], dtype=torch.float64)"
      ]
     },
     "execution_count": 50,
     "metadata": {},
     "output_type": "execute_result"
    }
   ],
   "source": [
    "a.pow_(2)\n",
    "a.sqrt()"
   ]
  },
  {
   "cell_type": "code",
   "execution_count": 53,
   "metadata": {},
   "outputs": [
    {
     "data": {
      "text/plain": [
       "tensor([3.3219, 6.6582], dtype=torch.float64)"
      ]
     },
     "execution_count": 53,
     "metadata": {},
     "output_type": "execute_result"
    }
   ],
   "source": [
    "## 对数运算\n",
    "a = t.tensor([10,101],dtype=t.float64)\n",
    "t.log10(a)\n",
    "t.log2(a)"
   ]
  },
  {
   "cell_type": "code",
   "execution_count": 2,
   "metadata": {},
   "outputs": [],
   "source": [
    "import numpy as np\n"
   ]
  },
  {
   "cell_type": "code",
   "execution_count": 10,
   "metadata": {},
   "outputs": [
    {
     "name": "stdout",
     "output_type": "stream",
     "text": [
      "[[[ 0  1  2]\n",
      "  [ 3  4  5]\n",
      "  [ 6  7  8]]\n",
      "\n",
      " [[ 9 10 11]\n",
      "  [12 13 14]\n",
      "  [15 16 17]]\n",
      "\n",
      " [[18 19 20]\n",
      "  [21 22 23]\n",
      "  [24 25 26]]\n",
      "\n",
      " [[27 28 29]\n",
      "  [30 31 32]\n",
      "  [33 34 35]]\n",
      "\n",
      " [[36 37 38]\n",
      "  [39 40 41]\n",
      "  [42 43 44]]\n",
      "\n",
      " [[45 46 47]\n",
      "  [48 49 50]\n",
      "  [51 52 53]]\n",
      "\n",
      " [[54 55 56]\n",
      "  [57 58 59]\n",
      "  [60 61 62]]\n",
      "\n",
      " [[63 64 65]\n",
      "  [66 67 68]\n",
      "  [69 70 71]]\n",
      "\n",
      " [[72 73 74]\n",
      "  [75 76 77]\n",
      "  [78 79 80]]\n",
      "\n",
      " [[81 82 83]\n",
      "  [84 85 86]\n",
      "  [87 88 89]]]\n",
      "=====\n"
     ]
    },
    {
     "data": {
      "text/plain": [
       "array([[ 0,  1,  2],\n",
       "       [ 3,  4,  5],\n",
       "       [ 6,  7,  8],\n",
       "       [ 9, 10, 11],\n",
       "       [12, 13, 14],\n",
       "       [15, 16, 17],\n",
       "       [18, 19, 20],\n",
       "       [21, 22, 23],\n",
       "       [24, 25, 26],\n",
       "       [27, 28, 29],\n",
       "       [30, 31, 32],\n",
       "       [33, 34, 35],\n",
       "       [36, 37, 38],\n",
       "       [39, 40, 41],\n",
       "       [42, 43, 44],\n",
       "       [45, 46, 47],\n",
       "       [48, 49, 50],\n",
       "       [51, 52, 53],\n",
       "       [54, 55, 56],\n",
       "       [57, 58, 59],\n",
       "       [60, 61, 62],\n",
       "       [63, 64, 65],\n",
       "       [66, 67, 68],\n",
       "       [69, 70, 71],\n",
       "       [72, 73, 74],\n",
       "       [75, 76, 77],\n",
       "       [78, 79, 80],\n",
       "       [81, 82, 83],\n",
       "       [84, 85, 86],\n",
       "       [87, 88, 89]])"
      ]
     },
     "execution_count": 10,
     "metadata": {},
     "output_type": "execute_result"
    }
   ],
   "source": [
    "a = np.arange(10*3*3).reshape(10,3,3);\n",
    "print(a)\n",
    "print(\"=====\")\n",
    "a.reshape(30,-1)"
   ]
  },
  {
   "cell_type": "code",
   "execution_count": 8,
   "metadata": {},
   "outputs": [
    {
     "data": {
      "text/plain": [
       "array([[[ 0,  1,  2],\n",
       "        [ 3,  4,  5],\n",
       "        [ 6,  7,  8]],\n",
       "\n",
       "       [[ 9, 10, 11],\n",
       "        [12, 13, 14],\n",
       "        [15, 16, 17]],\n",
       "\n",
       "       [[18, 19, 20],\n",
       "        [21, 22, 23],\n",
       "        [24, 25, 26]],\n",
       "\n",
       "       [[27, 28, 29],\n",
       "        [30, 31, 32],\n",
       "        [33, 34, 35]],\n",
       "\n",
       "       [[36, 37, 38],\n",
       "        [39, 40, 41],\n",
       "        [42, 43, 44]],\n",
       "\n",
       "       [[45, 46, 47],\n",
       "        [48, 49, 50],\n",
       "        [51, 52, 53]],\n",
       "\n",
       "       [[54, 55, 56],\n",
       "        [57, 58, 59],\n",
       "        [60, 61, 62]],\n",
       "\n",
       "       [[63, 64, 65],\n",
       "        [66, 67, 68],\n",
       "        [69, 70, 71]],\n",
       "\n",
       "       [[72, 73, 74],\n",
       "        [75, 76, 77],\n",
       "        [78, 79, 80]],\n",
       "\n",
       "       [[81, 82, 83],\n",
       "        [84, 85, 86],\n",
       "        [87, 88, 89]]])"
      ]
     },
     "execution_count": 8,
     "metadata": {},
     "output_type": "execute_result"
    }
   ],
   "source": [
    "a"
   ]
  },
  {
   "cell_type": "code",
   "execution_count": 19,
   "metadata": {},
   "outputs": [
    {
     "name": "stdout",
     "output_type": "stream",
     "text": [
      "10 3 3\n",
      "(30, 3)\n",
      "[[0.44814102 0.18808043 0.34952047 0.69120414 0.97033077 0.89987372\n",
      "  0.10871807 0.16469395 0.28571752 0.13933572]\n",
      " [0.72393701 0.73606511 0.6291345  0.27778112 0.83530068 0.9205847\n",
      "  0.97624647 0.00923678 0.90518013 0.6320501 ]\n",
      " [0.9839794  0.59357568 0.23724059 0.69480327 0.56709723 0.9663118\n",
      "  0.1734913  0.18011627 0.09096844 0.08743832]]\n"
     ]
    }
   ],
   "source": [
    "x = np.arange(10*3*3).reshape(10,3,3);\n",
    "N , T ,D = x.shape\n",
    "print(N,T,D)\n",
    "rx = x.reshape(N*T,-1)\n",
    "print(rx.shape)\n",
    "W = np.random.rand(3,10)\n",
    "print(W)\n"
   ]
  },
  {
   "cell_type": "code",
   "execution_count": 20,
   "metadata": {},
   "outputs": [
    {
     "data": {
      "text/plain": [
       "array([1, 2, 3, 4])"
      ]
     },
     "execution_count": 20,
     "metadata": {},
     "output_type": "execute_result"
    }
   ],
   "source": [
    "corpus=np.array([1,2,3,4,5])\n",
    "corpus[:-1]"
   ]
  },
  {
   "cell_type": "code",
   "execution_count": 7,
   "metadata": {},
   "outputs": [
    {
     "name": "stdout",
     "output_type": "stream",
     "text": [
      "[[0.8 ]\n",
      " [0.1 ]\n",
      " [0.03]\n",
      " [0.05]\n",
      " [0.02]]\n",
      "[[0.8  0.8  0.8  0.8 ]\n",
      " [0.1  0.1  0.1  0.1 ]\n",
      " [0.03 0.03 0.03 0.03]\n",
      " [0.05 0.05 0.05 0.05]\n",
      " [0.02 0.02 0.02 0.02]]\n",
      "(5, 4)\n",
      "(4,)\n"
     ]
    }
   ],
   "source": [
    "import numpy as np\n",
    "T , H = 5,4\n",
    "\n",
    "hs = np.random.randn(T,H)\n",
    "a = np.array([0.8,0.1,0.03,0.05,0.02])\n",
    "a = a.reshape(5,1)\n",
    "print(a);\n",
    "ar = a.repeat(4,axis=1)\n",
    "\n",
    "print(ar)\n",
    "\n",
    "\n",
    "t = hs*ar\n",
    "print(t.shape)\n",
    "c = np.sum(t,axis = 0)\n",
    "print(c.shape)\n"
   ]
  },
  {
   "cell_type": "code",
   "execution_count": 24,
   "metadata": {},
   "outputs": [
    {
     "name": "stdout",
     "output_type": "stream",
     "text": [
      "(10, 5)\n",
      "(10, 5, 4)\n"
     ]
    }
   ],
   "source": [
    "import numpy as np\n",
    "N, T , H = 10,5,4\n",
    "\n",
    "hs = np.random.randn(N,T,H)\n",
    "a = np.random.randn(N,T)\n",
    "\n",
    "\n",
    "print(a.shape)\n",
    "\n",
    "ar = a.reshape(N,T,1).repeat(H, axis=-1)\n",
    "print(ar.shape)\n",
    "\n",
    "\n"
   ]
  },
  {
   "cell_type": "code",
   "execution_count": 12,
   "metadata": {},
   "outputs": [
    {
     "name": "stdout",
     "output_type": "stream",
     "text": [
      "[[[ 0.13897777  0.13897777  0.13897777  0.13897777]\n",
      "  [ 0.74181713  0.74181713  0.74181713  0.74181713]\n",
      "  [ 0.72977686  0.72977686  0.72977686  0.72977686]\n",
      "  [-0.45113157 -0.45113157 -0.45113157 -0.45113157]\n",
      "  [-0.4673244  -0.4673244  -0.4673244  -0.4673244 ]]\n",
      "\n",
      " [[ 0.08286739  0.08286739  0.08286739  0.08286739]\n",
      "  [ 0.38338323  0.38338323  0.38338323  0.38338323]\n",
      "  [-0.54307417 -0.54307417 -0.54307417 -0.54307417]\n",
      "  [ 1.60296855  1.60296855  1.60296855  1.60296855]\n",
      "  [ 0.43308434  0.43308434  0.43308434  0.43308434]]\n",
      "\n",
      " [[-0.38209227 -0.38209227 -0.38209227 -0.38209227]\n",
      "  [ 0.34975622  0.34975622  0.34975622  0.34975622]\n",
      "  [-0.6480855  -0.6480855  -0.6480855  -0.6480855 ]\n",
      "  [-0.26303121 -0.26303121 -0.26303121 -0.26303121]\n",
      "  [ 1.30582648  1.30582648  1.30582648  1.30582648]]\n",
      "\n",
      " [[-0.59264854 -0.59264854 -0.59264854 -0.59264854]\n",
      "  [-1.08133746 -1.08133746 -1.08133746 -1.08133746]\n",
      "  [ 0.19920146  0.19920146  0.19920146  0.19920146]\n",
      "  [-0.30757423 -0.30757423 -0.30757423 -0.30757423]\n",
      "  [-1.00338051 -1.00338051 -1.00338051 -1.00338051]]\n",
      "\n",
      " [[-0.15820599 -0.15820599 -0.15820599 -0.15820599]\n",
      "  [ 1.24080256  1.24080256  1.24080256  1.24080256]\n",
      "  [-0.08628404 -0.08628404 -0.08628404 -0.08628404]\n",
      "  [ 0.11891206  0.11891206  0.11891206  0.11891206]\n",
      "  [-0.60559289 -0.60559289 -0.60559289 -0.60559289]]\n",
      "\n",
      " [[-1.92277545 -1.92277545 -1.92277545 -1.92277545]\n",
      "  [ 0.23311286  0.23311286  0.23311286  0.23311286]\n",
      "  [-0.24801636 -0.24801636 -0.24801636 -0.24801636]\n",
      "  [ 0.69988245  0.69988245  0.69988245  0.69988245]\n",
      "  [-1.38923047 -1.38923047 -1.38923047 -1.38923047]]\n",
      "\n",
      " [[ 1.15839615  1.15839615  1.15839615  1.15839615]\n",
      "  [ 0.63673381  0.63673381  0.63673381  0.63673381]\n",
      "  [ 1.09250817  1.09250817  1.09250817  1.09250817]\n",
      "  [ 0.59305909  0.59305909  0.59305909  0.59305909]\n",
      "  [ 1.1275167   1.1275167   1.1275167   1.1275167 ]]\n",
      "\n",
      " [[ 0.28473461  0.28473461  0.28473461  0.28473461]\n",
      "  [ 0.00286469  0.00286469  0.00286469  0.00286469]\n",
      "  [-0.31964459 -0.31964459 -0.31964459 -0.31964459]\n",
      "  [-0.85459547 -0.85459547 -0.85459547 -0.85459547]\n",
      "  [-0.46618869 -0.46618869 -0.46618869 -0.46618869]]\n",
      "\n",
      " [[ 1.51222835  1.51222835  1.51222835  1.51222835]\n",
      "  [ 0.4069268   0.4069268   0.4069268   0.4069268 ]\n",
      "  [ 1.17533177  1.17533177  1.17533177  1.17533177]\n",
      "  [-0.81185633 -0.81185633 -0.81185633 -0.81185633]\n",
      "  [ 0.11106359  0.11106359  0.11106359  0.11106359]]\n",
      "\n",
      " [[ 0.79196106  0.79196106  0.79196106  0.79196106]\n",
      "  [-1.06213204 -1.06213204 -1.06213204 -1.06213204]\n",
      "  [ 0.79314313  0.79314313  0.79314313  0.79314313]\n",
      "  [-0.37066169 -0.37066169 -0.37066169 -0.37066169]\n",
      "  [-1.57978808 -1.57978808 -1.57978808 -1.57978808]]]\n"
     ]
    }
   ],
   "source": [
    "print(ar.repeat(H,axis = 2))"
   ]
  },
  {
   "cell_type": "code",
   "execution_count": 17,
   "metadata": {},
   "outputs": [
    {
     "name": "stdout",
     "output_type": "stream",
     "text": [
      "(10, 5, 4)\n",
      "(10, 5, 256)\n"
     ]
    }
   ],
   "source": [
    "ar = ar.repeat(H,axis = -1)\n",
    "print(hs.shape)\n",
    "print(ar.shape)"
   ]
  },
  {
   "cell_type": "code",
   "execution_count": null,
   "metadata": {},
   "outputs": [],
   "source": []
  }
 ],
 "metadata": {
  "kernelspec": {
   "display_name": "Python 3",
   "language": "python",
   "name": "python3"
  },
  "language_info": {
   "codemirror_mode": {
    "name": "ipython",
    "version": 3
   },
   "file_extension": ".py",
   "mimetype": "text/x-python",
   "name": "python",
   "nbconvert_exporter": "python",
   "pygments_lexer": "ipython3",
   "version": "3.8.10"
  }
 },
 "nbformat": 4,
 "nbformat_minor": 4
}
