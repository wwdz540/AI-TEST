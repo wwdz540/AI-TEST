{
 "cells": [
  {
   "cell_type": "code",
   "execution_count": 1,
   "metadata": {},
   "outputs": [],
   "source": [
    "## https://colab.research.google.com/github/pytorch/tutorials/blob/gh-pages/_downloads/c30c1dcf2bc20119bcda7e734ce0eb42/quickstart_tutorial.ipynb#scrollTo=9eMtlafIw09I\n",
    "\n",
    "import torch\n",
    "from torch import nn\n",
    "from torch.utils.data import DataLoader\n",
    "from torchvision import datasets\n",
    "from torchvision.transforms import ToTensor\n",
    "\n",
    "\n",
    "\n",
    "\n",
    "\n",
    "\n"
   ]
  },
  {
   "cell_type": "code",
   "execution_count": 5,
   "metadata": {},
   "outputs": [],
   "source": [
    "training_data  = datasets.FashionMNIST(\n",
    "    root=\"data\",\n",
    "    train=True,\n",
    "    download=True,\n",
    "    transform=ToTensor(),\n",
    ")\n",
    "\n",
    "\n",
    "test_data = datasets.FashionMNIST(\n",
    "    root=\"data\",\n",
    "    train=False,\n",
    "    download=True,\n",
    "    transform=ToTensor(),\n",
    ")"
   ]
  },
  {
   "cell_type": "code",
   "execution_count": 9,
   "metadata": {},
   "outputs": [
    {
     "name": "stdout",
     "output_type": "stream",
     "text": [
      "Shape of X X[N, C, H ,W]: torch.Size([64, 1, 28, 28])\n",
      "Shape of y: torch.Size([64])\n"
     ]
    }
   ],
   "source": [
    "batch_size = 64\n",
    "\n",
    "train_dataloader = DataLoader(training_data,batch_size=batch_size)\n",
    "test_dataloader  = DataLoader(test_data,batch_size=batch_size)\n",
    "\n",
    "\n",
    "for X,y in test_dataloader : \n",
    "    print(f'Shape of X X[N, C, H ,W]: {X.shape}')\n",
    "    print(f'Shape of y: {y.shape}')\n",
    "    break\n",
    "\n"
   ]
  },
  {
   "cell_type": "code",
   "execution_count": 11,
   "metadata": {},
   "outputs": [
    {
     "name": "stdout",
     "output_type": "stream",
     "text": [
      "Using cpu device\n"
     ]
    }
   ],
   "source": [
    "#torch.cuda.is_available()\n",
    "device = \"cuda\" if torch.cuda.is_available() else \"cpu\"\n",
    "print(f'Using {device} device')"
   ]
  },
  {
   "cell_type": "code",
   "execution_count": 13,
   "metadata": {},
   "outputs": [
    {
     "name": "stdout",
     "output_type": "stream",
     "text": [
      "NeuralNetwork(\n",
      "  (flatten): Flatten(start_dim=1, end_dim=-1)\n",
      "  (linear_relu_stack): Sequential(\n",
      "    (0): Linear(in_features=784, out_features=512, bias=True)\n",
      "    (1): ReLU()\n",
      "    (2): Linear(in_features=512, out_features=512, bias=True)\n",
      "    (3): ReLU()\n",
      "    (4): Linear(in_features=512, out_features=10, bias=True)\n",
      "  )\n",
      ")\n"
     ]
    }
   ],
   "source": [
    "class NeuralNetwork(nn.Module):\n",
    "    \n",
    "    def __init__(self):\n",
    "        super(NeuralNetwork,self).__init__()\n",
    "        self.flatten = nn.Flatten()\n",
    "        self.linear_relu_stack = nn.Sequential(\n",
    "            nn.Linear(28*28,512),\n",
    "            nn.ReLU(),\n",
    "            nn.Linear(512,512),\n",
    "            nn.ReLU(),\n",
    "            nn.Linear(512,10)            \n",
    "        )\n",
    "    \n",
    "    def forward(self,x):\n",
    "        x = self.flatten(x)\n",
    "        logits = self.linear_relu_stack(x)\n",
    "        return logits\n",
    "\n",
    "    \n",
    "model = NeuralNetwork().to(device)\n",
    "print(model)\n",
    "\n"
   ]
  },
  {
   "cell_type": "code",
   "execution_count": 16,
   "metadata": {},
   "outputs": [],
   "source": [
    "loss_fn = nn.CrossEntropyLoss()\n",
    "optimizer = torch.optim.SGD(model.parameters(),lr=1e-3)\n",
    "\n",
    "\n",
    "\n"
   ]
  },
  {
   "cell_type": "code",
   "execution_count": 22,
   "metadata": {},
   "outputs": [],
   "source": [
    "def train(dataloader,model,loss_fn,optimizer):\n",
    "    size = len(dataloader.dataset)\n",
    "    model.train()\n",
    "\n",
    "    for batch, (X,y) in enumerate(dataloader):\n",
    "        X,y = X.to(device), y.to(device)\n",
    "\n",
    "        pred = model.forward(X)\n",
    "        loss = loss_fn(pred,y)\n",
    "\n",
    "        optimizer.zero_grad()\n",
    "        loss.backward()\n",
    "        optimizer.step()\n",
    "\n",
    "        if batch % 100 == 0 :\n",
    "            loss , current = loss.item(), batch * len(X)\n",
    "            print(f'loss {loss:>7f} [{current:>5d} / {size:>5d}]')\n",
    "            "
   ]
  },
  {
   "cell_type": "code",
   "execution_count": 24,
   "metadata": {},
   "outputs": [],
   "source": [
    "def test(dataloader,model,loss_fn):\n",
    "    size = len(dataloader.dataset)\n",
    "    num_batches = len(dataloader)\n",
    "    model.eval()\n",
    "    test_loss , correct = 0 , 0 \n",
    "    with torch.no_grad():\n",
    "        for X , y in dataloader:\n",
    "            X , y = X.to(device) , y.to(device)\n",
    "            pred = model(X)\n",
    "            test_loss += loss_fn(pred,y).item()\n",
    "            correct += (pred.argmax(1) == y).type(torch.float).sum().item()\n",
    "        \n",
    "    test_loss /= num_batches\n",
    "    correct /= size\n",
    "    print(f'Test Error :\\n Accuracy : {(100 * correct):>0.1f}% , Avg loss {test_loss:>8f} \\n')\n"
   ]
  },
  {
   "cell_type": "code",
   "execution_count": 25,
   "metadata": {},
   "outputs": [
    {
     "name": "stdout",
     "output_type": "stream",
     "text": [
      "Epoch 1\n",
      " ------------------------------------\n",
      "loss 2.159784 [    0 / 60000]\n",
      "loss 2.142291 [ 6400 / 60000]\n",
      "loss 2.087816 [12800 / 60000]\n",
      "loss 2.107653 [19200 / 60000]\n",
      "loss 2.044547 [25600 / 60000]\n",
      "loss 1.990269 [32000 / 60000]\n",
      "loss 2.015966 [38400 / 60000]\n",
      "loss 1.935310 [44800 / 60000]\n",
      "loss 1.937897 [51200 / 60000]\n",
      "loss 1.862387 [57600 / 60000]\n",
      "Test Error :\n",
      " Accuracy : 54.8% , Avg loss 1.868545 \n",
      "\n",
      "Epoch 2\n",
      " ------------------------------------\n",
      "loss 1.903074 [    0 / 60000]\n",
      "loss 1.866718 [ 6400 / 60000]\n",
      "loss 1.752273 [12800 / 60000]\n",
      "loss 1.799428 [19200 / 60000]\n",
      "loss 1.676476 [25600 / 60000]\n",
      "loss 1.636903 [32000 / 60000]\n",
      "loss 1.660043 [38400 / 60000]\n",
      "loss 1.566234 [44800 / 60000]\n",
      "loss 1.587080 [51200 / 60000]\n",
      "loss 1.481062 [57600 / 60000]\n",
      "Test Error :\n",
      " Accuracy : 61.3% , Avg loss 1.509987 \n",
      "\n",
      "Epoch 3\n",
      " ------------------------------------\n",
      "loss 1.578828 [    0 / 60000]\n",
      "loss 1.541597 [ 6400 / 60000]\n",
      "loss 1.394063 [12800 / 60000]\n",
      "loss 1.466693 [19200 / 60000]\n",
      "loss 1.346043 [25600 / 60000]\n",
      "loss 1.345812 [32000 / 60000]\n",
      "loss 1.359461 [38400 / 60000]\n",
      "loss 1.289813 [44800 / 60000]\n",
      "loss 1.317521 [51200 / 60000]\n",
      "loss 1.220435 [57600 / 60000]\n",
      "Test Error :\n",
      " Accuracy : 63.7% , Avg loss 1.253078 \n",
      "\n",
      "Epoch 4\n",
      " ------------------------------------\n",
      "loss 1.334074 [    0 / 60000]\n",
      "loss 1.312890 [ 6400 / 60000]\n",
      "loss 1.147771 [12800 / 60000]\n",
      "loss 1.252016 [19200 / 60000]\n",
      "loss 1.128803 [25600 / 60000]\n",
      "loss 1.153632 [32000 / 60000]\n",
      "loss 1.175660 [38400 / 60000]\n",
      "loss 1.115816 [44800 / 60000]\n",
      "loss 1.148774 [51200 / 60000]\n",
      "loss 1.068775 [57600 / 60000]\n",
      "Test Error :\n",
      " Accuracy : 64.8% , Avg loss 1.092973 \n",
      "\n",
      "Epoch 5\n",
      " ------------------------------------\n",
      "loss 1.169224 [    0 / 60000]\n",
      "loss 1.167867 [ 6400 / 60000]\n",
      "loss 0.985050 [12800 / 60000]\n",
      "loss 1.118213 [19200 / 60000]\n",
      "loss 0.994000 [25600 / 60000]\n",
      "loss 1.024271 [32000 / 60000]\n",
      "loss 1.062891 [38400 / 60000]\n",
      "loss 1.003966 [44800 / 60000]\n",
      "loss 1.038300 [51200 / 60000]\n",
      "loss 0.974498 [57600 / 60000]\n",
      "Test Error :\n",
      " Accuracy : 65.8% , Avg loss 0.988885 \n",
      "\n",
      "Done\n"
     ]
    }
   ],
   "source": [
    "epochs = 5\n",
    "for t in range(epochs):\n",
    "    print(f'Epoch {t + 1}\\n ------------------------------------')\n",
    "    train(train_dataloader,model,loss_fn,optimizer)\n",
    "    test(test_dataloader,model,loss_fn)\n",
    "print(\"Done\")\n"
   ]
  }
 ],
 "metadata": {
  "interpreter": {
   "hash": "743dd8f2b487c2534346d6063ec1536880227fc79756a17789cff5cace2505bd"
  },
  "kernelspec": {
   "display_name": "Python 3.8.10 ('ml')",
   "language": "python",
   "name": "python3"
  },
  "language_info": {
   "codemirror_mode": {
    "name": "ipython",
    "version": 3
   },
   "file_extension": ".py",
   "mimetype": "text/x-python",
   "name": "python",
   "nbconvert_exporter": "python",
   "pygments_lexer": "ipython3",
   "version": "3.8.10"
  },
  "orig_nbformat": 4
 },
 "nbformat": 4,
 "nbformat_minor": 2
}
