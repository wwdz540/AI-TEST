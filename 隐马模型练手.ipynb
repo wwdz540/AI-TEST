{
 "cells": [
  {
   "cell_type": "code",
   "execution_count": 1,
   "id": "d94c4b38",
   "metadata": {},
   "outputs": [],
   "source": [
    "import numpy as np\n",
    "## numpy广播机制"
   ]
  },
  {
   "cell_type": "code",
   "execution_count": 7,
   "id": "e70f044e",
   "metadata": {},
   "outputs": [
    {
     "name": "stdout",
     "output_type": "stream",
     "text": [
      "A:\n",
      " [[0.5 0.2 0.3]\n",
      " [0.3 0.5 0.2]\n",
      " [0.2 0.3 0.5]]\n",
      "B:\n",
      " [[0.5 0.5]\n",
      " [0.4 0.6]\n",
      " [0.7 0.3]]\n",
      "pi:\n",
      " [[0.2]\n",
      " [0.4]\n",
      " [0.4]]\n"
     ]
    }
   ],
   "source": [
    "A = np.array([\n",
    "    [.5 , .2 , .3],\n",
    "    [.3 , .5 , .2],\n",
    "    [.2 , .3 , .5],\n",
    "])\n",
    "print(\"A:\\n\",A)\n",
    "\n",
    "B = b = np.array([\n",
    "    .5 , .5,\n",
    "    .4 , .6,\n",
    "    .7 , .3\n",
    "]).reshape((3,2))\n",
    "print(\"B:\\n\",B)\n",
    "\n",
    "pi = np.array([\n",
    "    .2,\n",
    "    .4,\n",
    "    .4\n",
    "]).reshape((3,1))\n",
    "\n",
    "print(\"pi:\\n\",pi)\n",
    "\n"
   ]
  },
  {
   "cell_type": "code",
   "execution_count": 23,
   "id": "646df6e9",
   "metadata": {},
   "outputs": [
    {
     "name": "stdout",
     "output_type": "stream",
     "text": [
      "T1_prev:\n",
      "[[0.1 ]\n",
      " [0.16]\n",
      " [0.28]]\n",
      "p_Obs_State\n",
      "[[0.5 0.6 0.3]]\n"
     ]
    }
   ],
   "source": [
    "T1_prev = b[:,0].reshape((3,1))*pi\n",
    "print(\"T1_prev:\")\n",
    "print(T1_prev)\n",
    "\n",
    "p_Obs_State = B[:, 1]\n",
    "p_Obs_State = np.expand_dims(p_Obs_State,axis=0)\n",
    "\n",
    "print(\"p_Obs_State\")\n",
    "print(p_Obs_State)\n",
    "\n"
   ]
  },
  {
   "cell_type": "code",
   "execution_count": 31,
   "id": "0c945e49",
   "metadata": {},
   "outputs": [
    {
     "data": {
      "text/plain": [
       "array([[0.025 , 0.012 , 0.009 ],\n",
       "       [0.024 , 0.048 , 0.0096],\n",
       "       [0.028 , 0.0504, 0.042 ]])"
      ]
     },
     "execution_count": 31,
     "metadata": {},
     "output_type": "execute_result"
    }
   ],
   "source": [
    "dd = T1_prev*A*p_Obs_State\n",
    "dd"
   ]
  },
  {
   "cell_type": "code",
   "execution_count": 33,
   "id": "3ff331b0",
   "metadata": {},
   "outputs": [
    {
     "data": {
      "text/plain": [
       "array([0.028 , 0.0504, 0.042 ])"
      ]
     },
     "execution_count": 33,
     "metadata": {},
     "output_type": "execute_result"
    }
   ],
   "source": [
    "np.max(dd,axis = 0)"
   ]
  },
  {
   "cell_type": "code",
   "execution_count": 34,
   "id": "b50b36e2",
   "metadata": {},
   "outputs": [
    {
     "data": {
      "text/plain": [
       "array([2, 2, 2])"
      ]
     },
     "execution_count": 34,
     "metadata": {},
     "output_type": "execute_result"
    }
   ],
   "source": [
    "np.argmax(dd,axis=0)"
   ]
  },
  {
   "cell_type": "code",
   "execution_count": null,
   "id": "c2b62a30",
   "metadata": {},
   "outputs": [],
   "source": []
  },
  {
   "cell_type": "code",
   "execution_count": null,
   "id": "b9359733",
   "metadata": {},
   "outputs": [],
   "source": []
  },
  {
   "cell_type": "code",
   "execution_count": null,
   "id": "8dcbed29",
   "metadata": {},
   "outputs": [],
   "source": []
  }
 ],
 "metadata": {
  "kernelspec": {
   "display_name": "Python 3",
   "language": "python",
   "name": "python3"
  },
  "language_info": {
   "codemirror_mode": {
    "name": "ipython",
    "version": 3
   },
   "file_extension": ".py",
   "mimetype": "text/x-python",
   "name": "python",
   "nbconvert_exporter": "python",
   "pygments_lexer": "ipython3",
   "version": "3.8.10"
  }
 },
 "nbformat": 4,
 "nbformat_minor": 5
}
