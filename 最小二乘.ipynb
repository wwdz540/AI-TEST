{
 "cells": [
  {
   "cell_type": "code",
   "execution_count": 9,
   "metadata": {},
   "outputs": [
    {
     "name": "stdout",
     "output_type": "stream",
     "text": [
      "a= 2.066071414252538 b= 2.597500103604725 c= 4.689999854964827\n",
      "cost：1\n",
      "求解的拟合直线为:\n",
      "y=2.07x*x+2.6x+4.689999854964827\n"
     ]
    },
    {
     "data": {
      "image/png": "[encoded data removed]",
      "text/plain": [
       "<Figure size 576x432 with 1 Axes>"
      ]
     },
     "metadata": {
      "needs_background": "light"
     },
     "output_type": "display_data"
    }
   ],
   "source": [
    "import numpy as np\n",
    "import scipy as sp\n",
    "import matplotlib.pyplot as plt\n",
    "from scipy.optimize import leastsq\n",
    "'''\n",
    "     设置样本数据，真实数据需要在这里处理\n",
    "'''\n",
    "##样本数据(Xi,Yi)，需要转换成数组(列表)形式\n",
    "Xi=np.array([1,2,3,4,5,6])\n",
    "#Yi=np.array([9,18,31,48,69,94])\n",
    "Yi=np.array([9.1,18.3,32,47,69.5,94.8])\n",
    "\n",
    "def func (p,x):\n",
    "    a,b,c = p\n",
    "    return a * x *x + b * x +c\n",
    "\n",
    "def error(p,x,y):\n",
    "    return func(p,x)-y\n",
    "\n",
    "'''\n",
    "    主要部分：附带部分说明\n",
    "    1.leastsq函数的返回值tuple，第一个元素是求解结果，第二个是求解的代价值(个人理解)\n",
    "    2.官网的原话（第二个值）：Value of the cost function at the solution\n",
    "    3.实例：Para=>(array([ 0.61349535,  1.79409255]), 3)\n",
    "    4.返回值元组中第一个值的数量跟需要求解的参数的数量一致\n",
    "'''\n",
    "\n",
    "#k,b的初始值，可以任意设定,经过几次试验，发现p0的值会影响cost的值：Para[1]\n",
    "p0=[10,10,10]\n",
    "\n",
    "#把error函数中除了p0以外的参数打包到args中(使用要求)\n",
    "Para=leastsq(error,p0,args=(Xi,Yi))\n",
    "\n",
    "#读取结果\n",
    "a,b,c=Para[0]\n",
    "print(\"a=\",a,\"b=\",b,\"c=\",c)\n",
    "print(\"cost：\"+str(Para[1]))\n",
    "print(\"求解的拟合直线为:\")\n",
    "print(\"y=\"+str(round(a,2))+\"x*x+\"+str(round(b,2))+\"x+\"+str(c))\n",
    "\n",
    "'''\n",
    "   绘图，看拟合效果.\n",
    "   matplotlib默认不支持中文，label设置中文的话需要另行设置\n",
    "   如果报错，改成英文就可以\n",
    "'''\n",
    "\n",
    "#画样本点\n",
    "plt.figure(figsize=(8,6)) ##指定图像比例： 8：6\n",
    "plt.scatter(Xi,Yi,color=\"green\",label=\"样本数据\",linewidth=2) \n",
    "\n",
    "#画拟合直线\n",
    "x=np.linspace(0,12,100) ##在0-15直接画100个连续点\n",
    "#y=a*x*x+b*x+c ##函数式\n",
    "y = func((a,b,c),x)\n",
    "plt.plot(x,y,color=\"red\",label=\"拟合直线\",linewidth=2) \n",
    "plt.legend() #绘制图例\n",
    "plt.show()\n",
    "\n"
   ]
  },
  {
   "cell_type": "code",
   "execution_count": null,
   "metadata": {},
   "outputs": [],
   "source": [
    "func((1,2,3),np.array([1,2]))"
   ]
  },
  {
   "cell_type": "code",
   "execution_count": null,
   "metadata": {},
   "outputs": [],
   "source": []
  }
 ],
 "metadata": {
  "kernelspec": {
   "display_name": "Python 3",
   "language": "python",
   "name": "python3"
  },
  "language_info": {
   "codemirror_mode": {
    "name": "ipython",
    "version": 3
   },
   "file_extension": ".py",
   "mimetype": "text/x-python",
   "name": "python",
   "nbconvert_exporter": "python",
   "pygments_lexer": "ipython3",
   "version": "3.8.10"
  }
 },
 "nbformat": 4,
 "nbformat_minor": 2
}
