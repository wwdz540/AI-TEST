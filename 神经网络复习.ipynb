{
 "cells": [
  {
   "cell_type": "code",
   "execution_count": 1,
   "id": "c326a061",
   "metadata": {},
   "outputs": [],
   "source": [
    "import numpy as np\n"
   ]
  },
  {
   "cell_type": "code",
   "execution_count": 9,
   "id": "971a8d7e",
   "metadata": {},
   "outputs": [],
   "source": [
    "def sigmoid(x):\n",
    "    return 1/(1+np.exp(-x))"
   ]
  },
  {
   "cell_type": "markdown",
   "id": "d90a2d84",
   "metadata": {},
   "source": [
    "## 神经网络推理全貌"
   ]
  },
  {
   "cell_type": "code",
   "execution_count": 10,
   "id": "799fc817",
   "metadata": {},
   "outputs": [
    {
     "name": "stdout",
     "output_type": "stream",
     "text": [
      "x=\n",
      "[[-0.3398497   0.21497859]\n",
      " [ 0.00937429  1.05489241]\n",
      " [-0.16548167  0.84235224]\n",
      " [ 0.35109942 -0.61964048]\n",
      " [-1.44630703 -0.73637301]\n",
      " [ 2.24255756 -2.04257363]\n",
      " [ 0.56265777 -0.40848048]\n",
      " [-0.61041007 -0.31083496]\n",
      " [-0.08579526 -0.56299889]\n",
      " [-0.17304437  0.4292496 ]]\n",
      "W1=\n",
      "[[-1.21115295  0.53908396  2.59375129  0.76797469]\n",
      " [-0.3359235  -0.29398607  0.59764172  1.23090308]]\n",
      "w2=\n",
      "[[ 0.4609115   1.06701104 -0.27842163]\n",
      " [ 0.05348836  1.82748579  1.67448873]\n",
      " [-0.33235602  1.14723834  0.23426216]\n",
      " [ 0.77460575  0.84422288 -0.02863544]]\n",
      "h=\n",
      "[[ 2.33088280e-01 -3.70485738e-01 -3.40569084e+00  3.42488280e-01]\n",
      " [-4.72022172e-01 -4.29147649e-01 -1.99792313e+00  1.64453597e+00]\n",
      " [-1.88847630e-01 -4.60925843e-01 -2.57847886e+00  1.24863468e+00]\n",
      " [-3.23388618e-01  2.47360228e-01 -2.11234385e+00 -1.54215469e-01]\n",
      " [ 1.89275870e+00 -6.87275020e-01 -6.84413338e+00 -1.67826457e+00]\n",
      " [-2.13623703e+00  1.68533749e+00  1.94322392e+00 -4.53116292e-01]\n",
      " [-6.50551741e-01  2.99329843e-01 -1.43741609e+00  2.68173480e-01]\n",
      " [ 7.37411394e-01 -3.61758635e-01 -4.42170526e+00 -5.12520749e-01]\n",
      " [ 1.86730419e-01 -4.81452286e-03 -3.21168861e+00 -4.20019224e-01]\n",
      " [-4.09171519e-02 -3.43556352e-01 -2.84498201e+00  7.34337394e-01]]\n",
      "(10, 4)\n",
      "s=\n",
      "[[ 0.10528961  1.74532339  0.94058839]\n",
      " [ 0.19163179  1.84809062  0.97859507]\n",
      " [ 0.19186161  1.80001382  0.93707454]\n",
      " [-0.07087556  1.86057294  1.25670771]\n",
      " [-0.07608525  1.54588323  0.73539796]\n",
      " [-0.51193979  2.85895397  1.99826089]\n",
      " [-0.05218072  1.9868971   1.31617297]\n",
      " [ 0.00389681  1.67485814  0.91242719]\n",
      " [-0.04320134  1.74687876  1.10204788]\n",
      " [ 0.13706091  1.78740788  0.97325044]]\n"
     ]
    }
   ],
   "source": [
    "x=np.random.randn(10,2)\n",
    "print(\"x=\")\n",
    "print(x)\n",
    "W1 = np.random.randn(2,4)\n",
    "print(\"W1=\")\n",
    "print(W1)\n",
    "\n",
    "b1 = np.random.randn(4)\n",
    "\n",
    "W2=np.random.randn(4,3)\n",
    "print(\"w2=\")\n",
    "print(W2)\n",
    "b2=np.random.randn(3)\n",
    "\n",
    "\n",
    "h = np.dot(x,W1) + b1\n",
    "print(\"h=\")\n",
    "print(h)\n",
    "print(h.shape)\n",
    "\n",
    "a = sigmoid(h)\n",
    "\n",
    "\n",
    "\n",
    "s = np.dot(a,W2) + b2\n",
    "print(\"s=\")\n",
    "print(s)\n",
    "\n"
   ]
  },
  {
   "cell_type": "markdown",
   "id": "f7f8d9c5",
   "metadata": {},
   "source": [
    "## 神经网络正向传播\n"
   ]
  },
  {
   "cell_type": "code",
   "execution_count": 74,
   "id": "3835c6cc",
   "metadata": {},
   "outputs": [
    {
     "ename": "ValueError",
     "evalue": "operands could not be broadcast together with shapes (3,3) (3,6) ",
     "output_type": "error",
     "traceback": [
      "\u001b[0;31m---------------------------------------------------------------------------\u001b[0m",
      "\u001b[0;31mValueError\u001b[0m                                Traceback (most recent call last)",
      "\u001b[0;32m<ipython-input-74-bdfaf7ea3a55>\u001b[0m in \u001b[0;36m<module>\u001b[0;34m\u001b[0m\n\u001b[1;32m     17\u001b[0m \u001b[0;34m\u001b[0m\u001b[0m\n\u001b[1;32m     18\u001b[0m \u001b[0;34m\u001b[0m\u001b[0m\n\u001b[0;32m---> 19\u001b[0;31m \u001b[0mt\u001b[0m\u001b[0;34m*\u001b[0m\u001b[0mnp\u001b[0m\u001b[0;34m.\u001b[0m\u001b[0mlog\u001b[0m\u001b[0;34m(\u001b[0m\u001b[0mc\u001b[0m\u001b[0;34m)\u001b[0m\u001b[0;34m\u001b[0m\u001b[0;34m\u001b[0m\u001b[0m\n\u001b[0m",
      "\u001b[0;31mValueError\u001b[0m: operands could not be broadcast together with shapes (3,3) (3,6) "
     ]
    }
   ],
   "source": [
    "y = np.array([\n",
    "    [0.1,0.2,0.7],\n",
    "    [0.2,0.2,0.6],\n",
    "    [0.5,0.2,0.3]\n",
    "])\n",
    "\n",
    "t = np.array([\n",
    "    [0,0,1],\n",
    "    [1,0,1],\n",
    "    [1,0,1]\n",
    "])\n",
    "\n",
    "#print(t)\n",
    "#print(y)\n",
    "\n",
    "c = np.c_[1-y,y]\n",
    "\n",
    "\n",
    "t*np.log(c) \n"
   ]
  },
  {
   "cell_type": "code",
   "execution_count": 57,
   "id": "5fa169ce",
   "metadata": {},
   "outputs": [
    {
     "name": "stdout",
     "output_type": "stream",
     "text": [
      "[1 2 3]\n",
      "(3,)\n",
      "[[1 2 3]]\n",
      "...\n"
     ]
    },
    {
     "data": {
      "text/plain": [
       "1.791759469228055"
      ]
     },
     "execution_count": 57,
     "metadata": {},
     "output_type": "execute_result"
    }
   ],
   "source": [
    "tmp = np.array([1,2,3])\n",
    "print(tmp)\n",
    "# print(tmp.ndim)\n",
    "# print(tmp.size)\n",
    "\n",
    "print(tmp.shape)\n",
    "tmp=tmp.reshape(1,tmp.size)\n",
    "print(tmp)\n",
    "# sig = Sigmoid()\n",
    "# sig.forward(tmp)\n",
    "print(\"...\")\n",
    "tmp = np.log(tmp)\n",
    "np.sum(tmp)\n"
   ]
  },
  {
   "cell_type": "code",
   "execution_count": 41,
   "id": "13041d92",
   "metadata": {},
   "outputs": [
    {
     "data": {
      "text/plain": [
       "array([0.11853167, 0.32220249, 0.11853167, 0.32220249, 0.11853167])"
      ]
     },
     "execution_count": 41,
     "metadata": {},
     "output_type": "execute_result"
    }
   ],
   "source": [
    "\n",
    "    "
   ]
  },
  {
   "cell_type": "code",
   "execution_count": 42,
   "id": "28af2677",
   "metadata": {},
   "outputs": [],
   "source": [
    "tmp = np.array([.1,.2,.3,.0,.2,.1])"
   ]
  },
  {
   "cell_type": "code",
   "execution_count": 43,
   "id": "68dadfea",
   "metadata": {},
   "outputs": [
    {
     "data": {
      "text/plain": [
       "2"
      ]
     },
     "execution_count": 43,
     "metadata": {},
     "output_type": "execute_result"
    }
   ],
   "source": [
    "tmp.argmax()   ## 取出数组中最大值的索引\n"
   ]
  },
  {
   "cell_type": "code",
   "execution_count": 44,
   "id": "aa3049bf",
   "metadata": {},
   "outputs": [],
   "source": [
    "np.random.choice?"
   ]
  },
  {
   "cell_type": "code",
   "execution_count": 61,
   "id": "eed3b01f",
   "metadata": {},
   "outputs": [
    {
     "data": {
      "text/plain": [
       "array([False, False, False,  True,  True,  True,  True,  True,  True,\n",
       "        True])"
      ]
     },
     "execution_count": 61,
     "metadata": {},
     "output_type": "execute_result"
    }
   ],
   "source": [
    "tmp = np.arange(10)\n",
    "tmp >= 3"
   ]
  },
  {
   "cell_type": "code",
   "execution_count": 64,
   "id": "5ea5a332",
   "metadata": {},
   "outputs": [],
   "source": [
    "np.maximum?\n"
   ]
  },
  {
   "cell_type": "code",
   "execution_count": 90,
   "id": "593944bd",
   "metadata": {},
   "outputs": [
    {
     "name": "stdout",
     "output_type": "stream",
     "text": [
      "[[[ 0  1  2]\n",
      "  [ 3  4  5]\n",
      "  [ 6  7  8]]\n",
      "\n",
      " [[ 9 10 11]\n",
      "  [12 13 14]\n",
      "  [15 16 17]]\n",
      "\n",
      " [[18 19 20]\n",
      "  [21 22 23]\n",
      "  [24 25 26]]]\n",
      "=====\n",
      "[[ 3  4  5]\n",
      " [12 13 14]\n",
      " [21 22 23]]\n"
     ]
    }
   ],
   "source": [
    "test = np.arange(27)\n",
    "\n",
    "test = np.reshape(test,(3,3,3))\n",
    "print(test)\n",
    "print(\"=====\")\n",
    "print(test[:,1,:])"
   ]
  },
  {
   "cell_type": "code",
   "execution_count": 86,
   "id": "c44e4140",
   "metadata": {},
   "outputs": [],
   "source": [
    "np.reshape?"
   ]
  },
  {
   "cell_type": "code",
   "execution_count": null,
   "id": "d4ea9fbb",
   "metadata": {},
   "outputs": [],
   "source": []
  }
 ],
 "metadata": {
  "kernelspec": {
   "display_name": "Python 3",
   "language": "python",
   "name": "python3"
  },
  "language_info": {
   "codemirror_mode": {
    "name": "ipython",
    "version": 3
   },
   "file_extension": ".py",
   "mimetype": "text/x-python",
   "name": "python",
   "nbconvert_exporter": "python",
   "pygments_lexer": "ipython3",
   "version": "3.8.10"
  }
 },
 "nbformat": 4,
 "nbformat_minor": 5
}
